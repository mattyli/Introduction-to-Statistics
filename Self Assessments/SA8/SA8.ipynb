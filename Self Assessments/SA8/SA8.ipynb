{
 "cells": [
  {
   "cell_type": "code",
   "execution_count": 2,
   "metadata": {
    "vscode": {
     "languageId": "r"
    }
   },
   "outputs": [
    {
     "name": "stdout",
     "output_type": "stream",
     "text": [
      "[1] 10.20791\n",
      "[1] 9.733469\n"
     ]
    }
   ],
   "source": [
    "# Question 1\n",
    "data = read.csv(\"Perch.csv\", colClasses=c('numeric', 'numeric'))\n",
    "print(mean(data$Perch.2006))\n",
    "print(mean(data$Perch.2016))"
   ]
  },
  {
   "cell_type": "code",
   "execution_count": 3,
   "metadata": {
    "vscode": {
     "languageId": "r"
    }
   },
   "outputs": [],
   "source": [
    "calcCI <- function(m, interval, n, SE){ # returns the lower, upper intervals in a list\n",
    "    tails = (1-interval)/2\n",
    "    lower = tails\n",
    "    upper = 1 - tails\n",
    "    return (list((m+qt(lower, n-1)*SE), (m+qt(upper, n-1)*SE)))\n",
    "}"
   ]
  },
  {
   "cell_type": "code",
   "execution_count": 4,
   "metadata": {
    "vscode": {
     "languageId": "r"
    }
   },
   "outputs": [
    {
     "data": {
      "text/html": [
       "<ol>\n",
       "\t<li>366.100183039222</li>\n",
       "\t<li>377.899816960778</li>\n",
       "</ol>\n"
      ],
      "text/latex": [
       "\\begin{enumerate}\n",
       "\\item 366.100183039222\n",
       "\\item 377.899816960778\n",
       "\\end{enumerate}\n"
      ],
      "text/markdown": [
       "1. 366.100183039222\n",
       "2. 377.899816960778\n",
       "\n",
       "\n"
      ],
      "text/plain": [
       "[[1]]\n",
       "[1] 366.1002\n",
       "\n",
       "[[2]]\n",
       "[1] 377.8998\n"
      ]
     },
     "metadata": {},
     "output_type": "display_data"
    }
   ],
   "source": [
    "n = length(data$Perch.2006)\n",
    "m06 = mean(data$Perch.2006)\n",
    "SE06 = sd(data$Perch.2006)/sqrt(n)\n",
    "\n",
    "ls = calcCI(m06,0.95,n,SE06)\n",
    "\n",
    "lx = (calcCI(mean(data$Perch.2006), 0.95, n, sd(data$Perch.2016)/sqrt(n)))\n",
    "\n",
    "dx = calcCI(372, 0.95, 30, 15.8/sqrt(30))\n",
    "dx"
   ]
  },
  {
   "cell_type": "code",
   "execution_count": 5,
   "metadata": {
    "vscode": {
     "languageId": "r"
    }
   },
   "outputs": [
    {
     "data": {
      "text/plain": [
       "\n",
       "\tPaired t-test\n",
       "\n",
       "data:  predData$NoPred and predData$Pred\n",
       "t = -3.5512, df = 29, p-value = 0.001332\n",
       "alternative hypothesis: true mean difference is not equal to 0\n",
       "95 percent confidence interval:\n",
       " -5.899553 -1.587532\n",
       "sample estimates:\n",
       "mean difference \n",
       "      -3.743543 \n"
      ]
     },
     "metadata": {},
     "output_type": "display_data"
    }
   ],
   "source": [
    "predData = read.csv(\"cort.csv\", colClasses=c(\"numeric\", \"numeric\"))\n",
    "t.test(predData$NoPred, predData$Pred, paired = TRUE, alternative = c(\"t\"))"
   ]
  },
  {
   "cell_type": "code",
   "execution_count": 6,
   "metadata": {
    "vscode": {
     "languageId": "r"
    }
   },
   "outputs": [
    {
     "name": "stdout",
     "output_type": "stream",
     "text": [
      "[1] 250.6691\n"
     ]
    }
   ],
   "source": [
    "# sample size = 30\n",
    "# sample mean = 372\n",
    "# sample sd = 15.8\n",
    "\n",
    "print(372-350/ (15.8/sqrt(30)))"
   ]
  },
  {
   "cell_type": "markdown",
   "metadata": {},
   "source": [
    "FOR TEST"
   ]
  },
  {
   "cell_type": "code",
   "execution_count": 8,
   "metadata": {
    "vscode": {
     "languageId": "r"
    }
   },
   "outputs": [
    {
     "data": {
      "text/html": [
       "<ol>\n",
       "\t<li>10.7496945150146</li>\n",
       "\t<li>13.6503054849853</li>\n",
       "</ol>\n"
      ],
      "text/latex": [
       "\\begin{enumerate}\n",
       "\\item 10.7496945150146\n",
       "\\item 13.6503054849853\n",
       "\\end{enumerate}\n"
      ],
      "text/markdown": [
       "1. 10.7496945150146\n",
       "2. 13.6503054849853\n",
       "\n",
       "\n"
      ],
      "text/plain": [
       "[[1]]\n",
       "[1] 10.74969\n",
       "\n",
       "[[2]]\n",
       "[1] 13.65031\n"
      ]
     },
     "metadata": {},
     "output_type": "display_data"
    }
   ],
   "source": [
    "cis = calcCI(12.2, 0.95, 13, 2.4/sqrt(13))\n",
    "cis"
   ]
  },
  {
   "cell_type": "code",
   "execution_count": 10,
   "metadata": {
    "vscode": {
     "languageId": "r"
    }
   },
   "outputs": [
    {
     "data": {
      "text/html": [
       "<ol>\n",
       "\t<li>10.2194073671093</li>\n",
       "\t<li>14.4405926328907</li>\n",
       "</ol>\n"
      ],
      "text/latex": [
       "\\begin{enumerate}\n",
       "\\item 10.2194073671093\n",
       "\\item 14.4405926328907\n",
       "\\end{enumerate}\n"
      ],
      "text/markdown": [
       "1. 10.2194073671093\n",
       "2. 14.4405926328907\n",
       "\n",
       "\n"
      ],
      "text/plain": [
       "[[1]]\n",
       "[1] 10.21941\n",
       "\n",
       "[[2]]\n",
       "[1] 14.44059\n"
      ]
     },
     "metadata": {},
     "output_type": "display_data"
    }
   ],
   "source": [
    "runningCI = calcCI(12.33, 0.95, 10, 0.933)\n",
    "runningCI"
   ]
  }
 ],
 "metadata": {
  "kernelspec": {
   "display_name": "R",
   "language": "R",
   "name": "ir"
  },
  "language_info": {
   "codemirror_mode": "r",
   "file_extension": ".r",
   "mimetype": "text/x-r-source",
   "name": "R",
   "pygments_lexer": "r",
   "version": "4.2.0"
  },
  "orig_nbformat": 4
 },
 "nbformat": 4,
 "nbformat_minor": 2
}
