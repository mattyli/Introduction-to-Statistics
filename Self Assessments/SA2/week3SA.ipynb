{
 "cells": [
  {
   "cell_type": "markdown",
   "metadata": {},
   "source": [
    "# Week 3 Self Assessment\n",
    "\n",
    "Data is in runningData.csv. I decided to use a jupyter notebook rather than RStudio, just much simpler and user friendly IMO."
   ]
  },
  {
   "cell_type": "code",
   "execution_count": 8,
   "metadata": {
    "vscode": {
     "languageId": "r"
    }
   },
   "outputs": [
    {
     "data": {
      "image/png": "[encoded data removed]",
      "text/plain": [
       "Plot with title \"Running speed as a function of age\""
      ]
     },
     "metadata": {
      "image/png": {
       "height": 420,
       "width": 420
      }
     },
     "output_type": "display_data"
    },
    {
     "data": {
      "image/png": "[encoded data removed]",
      "text/plain": [
       "Plot with title \"Running frequncy as a function of age\""
      ]
     },
     "metadata": {
      "image/png": {
       "height": 420,
       "width": 420
      }
     },
     "output_type": "display_data"
    }
   ],
   "source": [
    "# setting the working directory\n",
    "setwd(\"C:/Users/02mat/OneDrive/Desktop/Intro-To-Stats/Introduction-to-Statistics/Self Assessments/SA2\") #nolint\n",
    "data <- read.csv(\"runningData.csv\")     # storing data\n",
    "\n",
    "meanRS <- mean(data$Running.Speed..miles.min.)\n",
    "meanAge <- mean(data$Age..Years.)\n",
    "meanFreq <- mean(data$Running.Frequency..days.week.)\n",
    "\n",
    "# q3 - running speed as a function of age\n",
    "plt1 = plot(data$Age..Years., data$Running.Speed..miles.min., pch=19, xlab=\"Age (Years)\", ylab=\"Running Speed (Miles/Min\", main=\"Running speed as a function of age\")\n",
    "#q4 - running frequency as a function of age\n",
    "plt2 = plot(data$Age..Years., data$Running.Frequency..days.week., pch=19, xlab=\"Age (Years)\", ylab=\"Running Frequency (days/week)\", main=\"Running frequncy as a function of age\")\n"
   ]
  },
  {
   "cell_type": "code",
   "execution_count": 9,
   "metadata": {
    "vscode": {
     "languageId": "r"
    }
   },
   "outputs": [
    {
     "data": {
      "text/html": [
       "'mean running speed: 208.818182'"
      ],
      "text/latex": [
       "'mean running speed: 208.818182'"
      ],
      "text/markdown": [
       "'mean running speed: 208.818182'"
      ],
      "text/plain": [
       "[1] \"mean running speed: 208.818182\""
      ]
     },
     "metadata": {},
     "output_type": "display_data"
    },
    {
     "data": {
      "text/html": [
       "'mean running frequency: 5.854545'"
      ],
      "text/latex": [
       "'mean running frequency: 5.854545'"
      ],
      "text/markdown": [
       "'mean running frequency: 5.854545'"
      ],
      "text/plain": [
       "[1] \"mean running frequency: 5.854545\""
      ]
     },
     "metadata": {},
     "output_type": "display_data"
    },
    {
     "data": {
      "text/html": [
       "'Mean age = 44.727273'"
      ],
      "text/latex": [
       "'Mean age = 44.727273'"
      ],
      "text/markdown": [
       "'Mean age = 44.727273'"
      ],
      "text/plain": [
       "[1] \"Mean age = 44.727273\""
      ]
     },
     "metadata": {},
     "output_type": "display_data"
    },
    {
     "data": {
      "text/html": [
       "<table class=\"dataframe\">\n",
       "<caption>A data.frame: 11 × 3</caption>\n",
       "<thead>\n",
       "\t<tr><th scope=col>Running.Speed..miles.min.</th><th scope=col>Age..Years.</th><th scope=col>Running.Frequency..days.week.</th></tr>\n",
       "\t<tr><th scope=col>&lt;int&gt;</th><th scope=col>&lt;int&gt;</th><th scope=col>&lt;dbl&gt;</th></tr>\n",
       "</thead>\n",
       "<tbody>\n",
       "\t<tr><td>232</td><td>24</td><td>6.5</td></tr>\n",
       "\t<tr><td>219</td><td>25</td><td>6.0</td></tr>\n",
       "\t<tr><td>205</td><td>27</td><td>6.5</td></tr>\n",
       "\t<tr><td>242</td><td>27</td><td>6.5</td></tr>\n",
       "\t<tr><td>201</td><td>37</td><td>5.0</td></tr>\n",
       "\t<tr><td>224</td><td>47</td><td>6.0</td></tr>\n",
       "\t<tr><td>200</td><td>51</td><td>5.2</td></tr>\n",
       "\t<tr><td>207</td><td>58</td><td>5.4</td></tr>\n",
       "\t<tr><td>197</td><td>62</td><td>5.8</td></tr>\n",
       "\t<tr><td>200</td><td>64</td><td>6.0</td></tr>\n",
       "\t<tr><td>170</td><td>70</td><td>5.5</td></tr>\n",
       "</tbody>\n",
       "</table>\n"
      ],
      "text/latex": [
       "A data.frame: 11 × 3\n",
       "\\begin{tabular}{lll}\n",
       " Running.Speed..miles.min. & Age..Years. & Running.Frequency..days.week.\\\\\n",
       " <int> & <int> & <dbl>\\\\\n",
       "\\hline\n",
       "\t 232 & 24 & 6.5\\\\\n",
       "\t 219 & 25 & 6.0\\\\\n",
       "\t 205 & 27 & 6.5\\\\\n",
       "\t 242 & 27 & 6.5\\\\\n",
       "\t 201 & 37 & 5.0\\\\\n",
       "\t 224 & 47 & 6.0\\\\\n",
       "\t 200 & 51 & 5.2\\\\\n",
       "\t 207 & 58 & 5.4\\\\\n",
       "\t 197 & 62 & 5.8\\\\\n",
       "\t 200 & 64 & 6.0\\\\\n",
       "\t 170 & 70 & 5.5\\\\\n",
       "\\end{tabular}\n"
      ],
      "text/markdown": [
       "\n",
       "A data.frame: 11 × 3\n",
       "\n",
       "| Running.Speed..miles.min. &lt;int&gt; | Age..Years. &lt;int&gt; | Running.Frequency..days.week. &lt;dbl&gt; |\n",
       "|---|---|---|\n",
       "| 232 | 24 | 6.5 |\n",
       "| 219 | 25 | 6.0 |\n",
       "| 205 | 27 | 6.5 |\n",
       "| 242 | 27 | 6.5 |\n",
       "| 201 | 37 | 5.0 |\n",
       "| 224 | 47 | 6.0 |\n",
       "| 200 | 51 | 5.2 |\n",
       "| 207 | 58 | 5.4 |\n",
       "| 197 | 62 | 5.8 |\n",
       "| 200 | 64 | 6.0 |\n",
       "| 170 | 70 | 5.5 |\n",
       "\n"
      ],
      "text/plain": [
       "   Running.Speed..miles.min. Age..Years. Running.Frequency..days.week.\n",
       "1  232                       24          6.5                          \n",
       "2  219                       25          6.0                          \n",
       "3  205                       27          6.5                          \n",
       "4  242                       27          6.5                          \n",
       "5  201                       37          5.0                          \n",
       "6  224                       47          6.0                          \n",
       "7  200                       51          5.2                          \n",
       "8  207                       58          5.4                          \n",
       "9  197                       62          5.8                          \n",
       "10 200                       64          6.0                          \n",
       "11 170                       70          5.5                          "
      ]
     },
     "metadata": {},
     "output_type": "display_data"
    }
   ],
   "source": [
    "sprintf(\"mean running speed: %f\", meanRS)\n",
    "sprintf(\"mean running frequency: %f\", meanFreq)\n",
    "sprintf(\"Mean age = %f\", meanAge)"
   ]
  },
  {
   "cell_type": "markdown",
   "metadata": {},
   "source": [
    "# Answers\n",
    "1. Mean Running Speed: 208.8 miles/min\n",
    "2. Mean Age: 44.7 years\n",
    "3. Mean Running Frequency: 5.9 days/ week\n",
    "\n",
    "Running speed decreases the older you get.\n",
    "\n",
    "There is little correlation between running frequency and age, suggesting that running frequency is independent of age."
   ]
  }
 ],
 "metadata": {
  "kernelspec": {
   "display_name": "R",
   "language": "R",
   "name": "ir"
  },
  "language_info": {
   "codemirror_mode": "r",
   "file_extension": ".r",
   "mimetype": "text/x-r-source",
   "name": "R",
   "pygments_lexer": "r",
   "version": "4.2.0"
  },
  "orig_nbformat": 4
 },
 "nbformat": 4,
 "nbformat_minor": 2
}
