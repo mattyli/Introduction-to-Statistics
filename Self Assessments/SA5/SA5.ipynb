{
 "cells": [
  {
   "cell_type": "markdown",
   "metadata": {},
   "source": [
    "# Calculating Distributions\n",
    "\n",
    "We can use a variety of functions to calculate certain probabilities for different distributions.\n",
    "\n",
    "For a normal distribution we can use ```pnorm()``` and ```qnorm()``` which return a probability and a range, respectively.\n",
    "\n",
    "```\n",
    "    pnorm(x -> zScore, mean, standard deviation)    # area under the curve to the left of upper limit\n",
    "\n",
    "    qnorm(p -> probability, mean, std dev)\n",
    "\n",
    "    # for binomial distributions\n",
    "\n",
    "    pbinom(x -> upper limit, n -> number of trials, std dev)\n",
    "```\n",
    "\n",
    "Note that x and p correspond to the upper limit."
   ]
  },
  {
   "cell_type": "code",
   "execution_count": 1,
   "metadata": {
    "vscode": {
     "languageId": "r"
    }
   },
   "outputs": [
    {
     "name": "stdout",
     "output_type": "stream",
     "text": [
      "[1] 0.5530351\n"
     ]
    }
   ],
   "source": [
    "# probability of event less than 1.2 from normal distribution avg = 1, sd = 1.5\n",
    "print(pnorm(1.2, 1, 1.5))"
   ]
  },
  {
   "cell_type": "code",
   "execution_count": 2,
   "metadata": {
    "vscode": {
     "languageId": "r"
    }
   },
   "outputs": [
    {
     "name": "stdout",
     "output_type": "stream",
     "text": [
      "[1] 0.8413447\n"
     ]
    }
   ],
   "source": [
    "# probability of event greater than -1 from normal distribution avg = 0, sd = 1\n",
    "print(1-pnorm(-1,0,1))"
   ]
  },
  {
   "cell_type": "code",
   "execution_count": 3,
   "metadata": {
    "vscode": {
     "languageId": "r"
    }
   },
   "outputs": [
    {
     "name": "stdout",
     "output_type": "stream",
     "text": [
      "[1] -0.03724488\n"
     ]
    }
   ],
   "source": [
    "# upper threshold for event range p = 0.25, avg = 0.3, sd = 0.5\n",
    "print(qnorm(0.25, 0.3, 0.5))"
   ]
  }
 ],
 "metadata": {
  "kernelspec": {
   "display_name": "R",
   "language": "R",
   "name": "ir"
  },
  "language_info": {
   "codemirror_mode": "r",
   "file_extension": ".r",
   "mimetype": "text/x-r-source",
   "name": "R",
   "pygments_lexer": "r",
   "version": "4.2.0"
  },
  "orig_nbformat": 4
 },
 "nbformat": 4,
 "nbformat_minor": 2
}
