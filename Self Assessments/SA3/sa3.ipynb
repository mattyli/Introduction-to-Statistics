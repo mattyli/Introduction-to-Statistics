{
 "cells": [
  {
   "cell_type": "markdown",
   "metadata": {},
   "source": [
    "## Self Assessment 3"
   ]
  },
  {
   "cell_type": "code",
   "execution_count": 5,
   "metadata": {
    "vscode": {
     "languageId": "r"
    }
   },
   "outputs": [
    {
     "data": {
      "text/plain": [
       "   Min. 1st Qu.  Median    Mean 3rd Qu.    Max. \n",
       "  119.4   122.2   124.1   129.6   128.8   172.2 "
      ]
     },
     "metadata": {},
     "output_type": "display_data"
    },
    {
     "data": {
      "text/html": [
       "167.349008622004"
      ],
      "text/latex": [
       "167.349008622004"
      ],
      "text/markdown": [
       "167.349008622004"
      ],
      "text/plain": [
       "[1] 167.349"
      ]
     },
     "metadata": {},
     "output_type": "display_data"
    }
   ],
   "source": [
    "setwd(\"C:/Users/02mat/OneDrive/Desktop/Intro-To-Stats/Introduction-to-Statistics/Self Assessments/SA3\")\n",
    "data <- read.csv(\"KyDerby.csv\", colClasses=c(\"factor\", \"factor\", \"numeric\", \"numeric\", \"numeric\"))\n",
    "\n",
    "summary(data$time)\n",
    "var(data$time)"
   ]
  },
  {
   "cell_type": "code",
   "execution_count": 8,
   "metadata": {
    "vscode": {
     "languageId": "r"
    }
   },
   "outputs": [
    {
     "data": {
      "text/html": [
       "6.65000000000002"
      ],
      "text/latex": [
       "6.65000000000002"
      ],
      "text/markdown": [
       "6.65000000000002"
      ],
      "text/plain": [
       "[1] 6.65"
      ]
     },
     "metadata": {},
     "output_type": "display_data"
    },
    {
     "data": {
      "text/html": [
       "<style>\n",
       ".dl-inline {width: auto; margin:0; padding: 0}\n",
       ".dl-inline>dt, .dl-inline>dd {float: none; width: auto; display: inline-block}\n",
       ".dl-inline>dt::after {content: \":\\0020\"; padding-right: .5ex}\n",
       ".dl-inline>dt:not(:first-of-type) {padding-left: .5ex}\n",
       "</style><dl class=dl-inline><dt>25%</dt><dd>122.2</dd><dt>75%</dt><dd>128.85</dd></dl>\n"
      ],
      "text/latex": [
       "\\begin{description*}\n",
       "\\item[25\\textbackslash{}\\%] 122.2\n",
       "\\item[75\\textbackslash{}\\%] 128.85\n",
       "\\end{description*}\n"
      ],
      "text/markdown": [
       "25%\n",
       ":   122.275%\n",
       ":   128.85\n",
       "\n"
      ],
      "text/plain": [
       "   25%    75% \n",
       "122.20 128.85 "
      ]
     },
     "metadata": {},
     "output_type": "display_data"
    }
   ],
   "source": [
    "IQR(data$time)\n",
    "quantile(data$time, probs = c(0.25, 0.75))"
   ]
  },
  {
   "cell_type": "code",
   "execution_count": 14,
   "metadata": {
    "vscode": {
     "languageId": "r"
    }
   },
   "outputs": [
    {
     "data": {
      "text/html": [
       "1973\n",
       "<details>\n",
       "\t<summary style=display:list-item;cursor:pointer>\n",
       "\t\t<strong>Levels</strong>:\n",
       "\t</summary>\n",
       "\t<style>\n",
       "\t.list-inline {list-style: none; margin:0; padding: 0}\n",
       "\t.list-inline>li {display: inline-block}\n",
       "\t.list-inline>li:not(:last-child)::after {content: \"\\00b7\"; padding: 0 .5ex}\n",
       "\t</style>\n",
       "\t<ol class=list-inline><li>'1875'</li><li>'1876'</li><li>'1877'</li><li>'1878'</li><li>'1879'</li><li>'1880'</li><li>'1881'</li><li>'1882'</li><li>'1883'</li><li>'1884'</li><li>'1885'</li><li>'1886'</li><li>'1887'</li><li>'1888'</li><li>'1889'</li><li>'1890'</li><li>'1891'</li><li>'1892'</li><li>'1893'</li><li>'1894'</li><li>'1895'</li><li>'1896'</li><li>'1897'</li><li>'1898'</li><li>'1899'</li><li>'1900'</li><li>'1901'</li><li>'1902'</li><li>'1903'</li><li>'1904'</li><li>'1905'</li><li>'1906'</li><li>'1907'</li><li>'1908'</li><li>'1909'</li><li>'1910'</li><li>'1911'</li><li>'1912'</li><li>'1913'</li><li>'1914'</li><li>'1915'</li><li>'1916'</li><li>'1917'</li><li>'1918'</li><li>'1919'</li><li>'1920'</li><li>'1921'</li><li>'1922'</li><li>'1923'</li><li>'1924'</li><li>'1925'</li><li>'1926'</li><li>'1927'</li><li>'1928'</li><li>'1929'</li><li>'1930'</li><li>'1931'</li><li>'1932'</li><li>'1933'</li><li>'1934'</li><li>'1935'</li><li>'1936'</li><li>'1937'</li><li>'1938'</li><li>'1939'</li><li>'1940'</li><li>'1941'</li><li>'1942'</li><li>'1943'</li><li>'1944'</li><li>'1945'</li><li>'1946'</li><li>'1947'</li><li>'1948'</li><li>'1949'</li><li>'1950'</li><li>'1951'</li><li>'1952'</li><li>'1953'</li><li>'1954'</li><li>'1955'</li><li>'1956'</li><li>'1957'</li><li>'1958'</li><li>'1959'</li><li>'1960'</li><li>'1961'</li><li>'1962'</li><li>'1963'</li><li>'1964'</li><li>'1965'</li><li>'1966'</li><li>'1967'</li><li>'1968'</li><li>'1969'</li><li>'1970'</li><li>'1971'</li><li>'1972'</li><li>'1973'</li><li>'1974'</li><li>'1975'</li><li>'1976'</li><li>'1977'</li><li>'1978'</li><li>'1979'</li><li>'1980'</li><li>'1981'</li><li>'1982'</li><li>'1983'</li><li>'1984'</li><li>'1985'</li><li>'1986'</li><li>'1987'</li><li>'1988'</li><li>'1989'</li><li>'1990'</li><li>'1991'</li><li>'1992'</li><li>'1993'</li><li>'1994'</li><li>'1995'</li><li>'1996'</li><li>'1997'</li><li>'1998'</li><li>'1999'</li><li>'2000'</li><li>'2001'</li><li>'2002'</li><li>'2003'</li><li>'2004'</li><li>'2005'</li><li>'2006'</li><li>'2007'</li><li>'2008'</li><li>'2009'</li><li>'2010'</li></ol>\n",
       "</details>"
      ],
      "text/latex": [
       "1973\n",
       "\\emph{Levels}: \\begin{enumerate*}\n",
       "\\item '1875'\n",
       "\\item '1876'\n",
       "\\item '1877'\n",
       "\\item '1878'\n",
       "\\item '1879'\n",
       "\\item '1880'\n",
       "\\item '1881'\n",
       "\\item '1882'\n",
       "\\item '1883'\n",
       "\\item '1884'\n",
       "\\item '1885'\n",
       "\\item '1886'\n",
       "\\item '1887'\n",
       "\\item '1888'\n",
       "\\item '1889'\n",
       "\\item '1890'\n",
       "\\item '1891'\n",
       "\\item '1892'\n",
       "\\item '1893'\n",
       "\\item '1894'\n",
       "\\item '1895'\n",
       "\\item '1896'\n",
       "\\item '1897'\n",
       "\\item '1898'\n",
       "\\item '1899'\n",
       "\\item '1900'\n",
       "\\item '1901'\n",
       "\\item '1902'\n",
       "\\item '1903'\n",
       "\\item '1904'\n",
       "\\item '1905'\n",
       "\\item '1906'\n",
       "\\item '1907'\n",
       "\\item '1908'\n",
       "\\item '1909'\n",
       "\\item '1910'\n",
       "\\item '1911'\n",
       "\\item '1912'\n",
       "\\item '1913'\n",
       "\\item '1914'\n",
       "\\item '1915'\n",
       "\\item '1916'\n",
       "\\item '1917'\n",
       "\\item '1918'\n",
       "\\item '1919'\n",
       "\\item '1920'\n",
       "\\item '1921'\n",
       "\\item '1922'\n",
       "\\item '1923'\n",
       "\\item '1924'\n",
       "\\item '1925'\n",
       "\\item '1926'\n",
       "\\item '1927'\n",
       "\\item '1928'\n",
       "\\item '1929'\n",
       "\\item '1930'\n",
       "\\item '1931'\n",
       "\\item '1932'\n",
       "\\item '1933'\n",
       "\\item '1934'\n",
       "\\item '1935'\n",
       "\\item '1936'\n",
       "\\item '1937'\n",
       "\\item '1938'\n",
       "\\item '1939'\n",
       "\\item '1940'\n",
       "\\item '1941'\n",
       "\\item '1942'\n",
       "\\item '1943'\n",
       "\\item '1944'\n",
       "\\item '1945'\n",
       "\\item '1946'\n",
       "\\item '1947'\n",
       "\\item '1948'\n",
       "\\item '1949'\n",
       "\\item '1950'\n",
       "\\item '1951'\n",
       "\\item '1952'\n",
       "\\item '1953'\n",
       "\\item '1954'\n",
       "\\item '1955'\n",
       "\\item '1956'\n",
       "\\item '1957'\n",
       "\\item '1958'\n",
       "\\item '1959'\n",
       "\\item '1960'\n",
       "\\item '1961'\n",
       "\\item '1962'\n",
       "\\item '1963'\n",
       "\\item '1964'\n",
       "\\item '1965'\n",
       "\\item '1966'\n",
       "\\item '1967'\n",
       "\\item '1968'\n",
       "\\item '1969'\n",
       "\\item '1970'\n",
       "\\item '1971'\n",
       "\\item '1972'\n",
       "\\item '1973'\n",
       "\\item '1974'\n",
       "\\item '1975'\n",
       "\\item '1976'\n",
       "\\item '1977'\n",
       "\\item '1978'\n",
       "\\item '1979'\n",
       "\\item '1980'\n",
       "\\item '1981'\n",
       "\\item '1982'\n",
       "\\item '1983'\n",
       "\\item '1984'\n",
       "\\item '1985'\n",
       "\\item '1986'\n",
       "\\item '1987'\n",
       "\\item '1988'\n",
       "\\item '1989'\n",
       "\\item '1990'\n",
       "\\item '1991'\n",
       "\\item '1992'\n",
       "\\item '1993'\n",
       "\\item '1994'\n",
       "\\item '1995'\n",
       "\\item '1996'\n",
       "\\item '1997'\n",
       "\\item '1998'\n",
       "\\item '1999'\n",
       "\\item '2000'\n",
       "\\item '2001'\n",
       "\\item '2002'\n",
       "\\item '2003'\n",
       "\\item '2004'\n",
       "\\item '2005'\n",
       "\\item '2006'\n",
       "\\item '2007'\n",
       "\\item '2008'\n",
       "\\item '2009'\n",
       "\\item '2010'\n",
       "\\end{enumerate*}\n"
      ],
      "text/markdown": [
       "1973\n",
       "**Levels**: 1. '1875'\n",
       "2. '1876'\n",
       "3. '1877'\n",
       "4. '1878'\n",
       "5. '1879'\n",
       "6. '1880'\n",
       "7. '1881'\n",
       "8. '1882'\n",
       "9. '1883'\n",
       "10. '1884'\n",
       "11. '1885'\n",
       "12. '1886'\n",
       "13. '1887'\n",
       "14. '1888'\n",
       "15. '1889'\n",
       "16. '1890'\n",
       "17. '1891'\n",
       "18. '1892'\n",
       "19. '1893'\n",
       "20. '1894'\n",
       "21. '1895'\n",
       "22. '1896'\n",
       "23. '1897'\n",
       "24. '1898'\n",
       "25. '1899'\n",
       "26. '1900'\n",
       "27. '1901'\n",
       "28. '1902'\n",
       "29. '1903'\n",
       "30. '1904'\n",
       "31. '1905'\n",
       "32. '1906'\n",
       "33. '1907'\n",
       "34. '1908'\n",
       "35. '1909'\n",
       "36. '1910'\n",
       "37. '1911'\n",
       "38. '1912'\n",
       "39. '1913'\n",
       "40. '1914'\n",
       "41. '1915'\n",
       "42. '1916'\n",
       "43. '1917'\n",
       "44. '1918'\n",
       "45. '1919'\n",
       "46. '1920'\n",
       "47. '1921'\n",
       "48. '1922'\n",
       "49. '1923'\n",
       "50. '1924'\n",
       "51. '1925'\n",
       "52. '1926'\n",
       "53. '1927'\n",
       "54. '1928'\n",
       "55. '1929'\n",
       "56. '1930'\n",
       "57. '1931'\n",
       "58. '1932'\n",
       "59. '1933'\n",
       "60. '1934'\n",
       "61. '1935'\n",
       "62. '1936'\n",
       "63. '1937'\n",
       "64. '1938'\n",
       "65. '1939'\n",
       "66. '1940'\n",
       "67. '1941'\n",
       "68. '1942'\n",
       "69. '1943'\n",
       "70. '1944'\n",
       "71. '1945'\n",
       "72. '1946'\n",
       "73. '1947'\n",
       "74. '1948'\n",
       "75. '1949'\n",
       "76. '1950'\n",
       "77. '1951'\n",
       "78. '1952'\n",
       "79. '1953'\n",
       "80. '1954'\n",
       "81. '1955'\n",
       "82. '1956'\n",
       "83. '1957'\n",
       "84. '1958'\n",
       "85. '1959'\n",
       "86. '1960'\n",
       "87. '1961'\n",
       "88. '1962'\n",
       "89. '1963'\n",
       "90. '1964'\n",
       "91. '1965'\n",
       "92. '1966'\n",
       "93. '1967'\n",
       "94. '1968'\n",
       "95. '1969'\n",
       "96. '1970'\n",
       "97. '1971'\n",
       "98. '1972'\n",
       "99. '1973'\n",
       "100. '1974'\n",
       "101. '1975'\n",
       "102. '1976'\n",
       "103. '1977'\n",
       "104. '1978'\n",
       "105. '1979'\n",
       "106. '1980'\n",
       "107. '1981'\n",
       "108. '1982'\n",
       "109. '1983'\n",
       "110. '1984'\n",
       "111. '1985'\n",
       "112. '1986'\n",
       "113. '1987'\n",
       "114. '1988'\n",
       "115. '1989'\n",
       "116. '1990'\n",
       "117. '1991'\n",
       "118. '1992'\n",
       "119. '1993'\n",
       "120. '1994'\n",
       "121. '1995'\n",
       "122. '1996'\n",
       "123. '1997'\n",
       "124. '1998'\n",
       "125. '1999'\n",
       "126. '2000'\n",
       "127. '2001'\n",
       "128. '2002'\n",
       "129. '2003'\n",
       "130. '2004'\n",
       "131. '2005'\n",
       "132. '2006'\n",
       "133. '2007'\n",
       "134. '2008'\n",
       "135. '2009'\n",
       "136. '2010'\n",
       "\n",
       "\n"
      ],
      "text/plain": [
       "[1] 1973\n",
       "136 Levels: 1875 1876 1877 1878 1879 1880 1881 1882 1883 1884 1885 1886 ... 2010"
      ]
     },
     "metadata": {},
     "output_type": "display_data"
    }
   ],
   "source": [
    "fastTime <- min(data$time)\n",
    "yearOccurred <- data$Year[data$time==fastTime]\n",
    "yearOccurred"
   ]
  }
 ],
 "metadata": {
  "interpreter": {
   "hash": "880c40a315a9aad5eacc1d65763e70cdbad02f85abc026da352346917c350176"
  },
  "kernelspec": {
   "display_name": "R",
   "language": "R",
   "name": "ir"
  },
  "language_info": {
   "codemirror_mode": "r",
   "file_extension": ".r",
   "mimetype": "text/x-r-source",
   "name": "R",
   "pygments_lexer": "r",
   "version": "4.2.0"
  },
  "orig_nbformat": 4
 },
 "nbformat": 4,
 "nbformat_minor": 2
}
