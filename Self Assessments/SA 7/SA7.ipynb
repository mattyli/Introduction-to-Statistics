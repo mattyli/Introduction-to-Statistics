{
 "cells": [
  {
   "cell_type": "markdown",
   "metadata": {},
   "source": [
    "# Week 7 Reference\n",
    "\n",
    "The function below is used to compute the raw scale values of the limits of the confidence interval. \n",
    "\n",
    "It will return a list compromising of the lower and upper interval in that order."
   ]
  },
  {
   "cell_type": "code",
   "execution_count": 12,
   "metadata": {
    "vscode": {
     "languageId": "r"
    }
   },
   "outputs": [],
   "source": [
    "calcCI <- function(m, interval, n, SD, SE){ # returns the lower, upper intervals in a list\n",
    "    tails = (1-interval)/2\n",
    "    lower = tails\n",
    "    upper = 1 - tails\n",
    "    return (list((m+qt(lower, n-1)*SE), (m+qt(upper, n-1)*SE)))\n",
    "}"
   ]
  },
  {
   "cell_type": "code",
   "execution_count": 13,
   "metadata": {
    "vscode": {
     "languageId": "r"
    }
   },
   "outputs": [
    {
     "data": {
      "text/html": [
       "<ol>\n",
       "\t<li>4.27211689243678</li>\n",
       "\t<li>5.73588310756322</li>\n",
       "</ol>\n"
      ],
      "text/latex": [
       "\\begin{enumerate}\n",
       "\\item 4.27211689243678\n",
       "\\item 5.73588310756322\n",
       "\\end{enumerate}\n"
      ],
      "text/markdown": [
       "1. 4.27211689243678\n",
       "2. 5.73588310756322\n",
       "\n",
       "\n"
      ],
      "text/plain": [
       "[[1]]\n",
       "[1] 4.272117\n",
       "\n",
       "[[2]]\n",
       "[1] 5.735883\n"
      ]
     },
     "metadata": {},
     "output_type": "display_data"
    }
   ],
   "source": [
    "Mydata=c(3.89,5.85,5.97,6.10,4.44,6.12,4.24,5.63,3.48,4.32)\n",
    "m=mean(Mydata) #calculate sample mean\n",
    "n=length(Mydata) #calculate sample size\n",
    "SE=sd(Mydata)/sqrt(n) #calculate standard error\n",
    "\n",
    "ls = calcCI(m, 0.95, n, sd(Mydata), SE)\n",
    "ls\n",
    "\n",
    "# ^ example from the software skills guide"
   ]
  }
 ],
 "metadata": {
  "kernelspec": {
   "display_name": "R",
   "language": "R",
   "name": "ir"
  },
  "language_info": {
   "codemirror_mode": "r",
   "file_extension": ".r",
   "mimetype": "text/x-r-source",
   "name": "R",
   "pygments_lexer": "r",
   "version": "4.2.0"
  },
  "orig_nbformat": 4
 },
 "nbformat": 4,
 "nbformat_minor": 2
}
