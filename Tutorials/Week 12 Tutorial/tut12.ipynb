{
 "cells": [
  {
   "cell_type": "markdown",
   "metadata": {},
   "source": [
    "# Week 12 Tutorial"
   ]
  },
  {
   "cell_type": "code",
   "execution_count": 17,
   "metadata": {
    "vscode": {
     "languageId": "r"
    }
   },
   "outputs": [
    {
     "data": {
      "image/png": "[encoded data removed]",
      "text/plain": [
       "Plot with title \"comparison of the effectiveness of different sleep treatments\""
      ]
     },
     "metadata": {
      "image/png": {
       "height": 420,
       "width": 420
      }
     },
     "output_type": "display_data"
    }
   ],
   "source": [
    "data = read.csv(\"Insomnia_data.csv\", colClasses=c('factor', 'factor', 'numeric'))\n",
    "treatment = data$Treatment\n",
    "sleep = data$Sleep\n",
    "\n",
    "boxplot(sleep~treatment, xlab = \"treatment type\", ylab=\"sleep duration (hours)\", main = \"comparison of the effectiveness of different sleep treatments\")"
   ]
  },
  {
   "cell_type": "markdown",
   "metadata": {},
   "source": [
    "## Question 2\n",
    "\n",
    "Statement of Means:\n",
    "- H0 : the means of all treatment types are the same\n",
    "- HA : the means of the treatment types are not the same\n",
    "\n",
    "F-test:\n",
    "- H0 : F <= 1\n",
    "- HA : F > 1"
   ]
  },
  {
   "cell_type": "code",
   "execution_count": 14,
   "metadata": {
    "vscode": {
     "languageId": "r"
    }
   },
   "outputs": [
    {
     "data": {
      "text/plain": [
       "\n",
       "Call:\n",
       "lm(formula = sleep ~ treatment)\n",
       "\n",
       "Residuals:\n",
       "    Min      1Q  Median      3Q     Max \n",
       "-1.5034 -0.3205  0.0171  0.2881  1.5166 \n",
       "\n",
       "Coefficients:\n",
       "                     Estimate Std. Error t value Pr(>|t|)    \n",
       "(Intercept)           5.47660    0.06883  79.566  < 2e-16 ***\n",
       "treatmentControl     -0.92320    0.09734  -9.484  < 2e-16 ***\n",
       "treatmentMedication  -0.21820    0.09734  -2.242   0.0261 *  \n",
       "treatmentMindfulness -0.47420    0.09734  -4.872 2.28e-06 ***\n",
       "---\n",
       "Signif. codes:  0 '***' 0.001 '**' 0.01 '*' 0.05 '.' 0.1 ' ' 1\n",
       "\n",
       "Residual standard error: 0.4867 on 196 degrees of freedom\n",
       "Multiple R-squared:  0.3371,\tAdjusted R-squared:  0.327 \n",
       "F-statistic: 33.23 on 3 and 196 DF,  p-value: < 2.2e-16\n"
      ]
     },
     "metadata": {},
     "output_type": "display_data"
    }
   ],
   "source": [
    "model = lm(sleep~treatment)\n",
    "summary(model)"
   ]
  },
  {
   "cell_type": "markdown",
   "metadata": {},
   "source": [
    "## Question 3\n",
    "\n",
    "here intercept represents the CBT treatment, everything else is relative to the CBT treatment.\n",
    "\n",
    "the estimated LS mean for CBT = 5.477\n",
    "\n",
    "estimated LS for control = 5.47660 - 0.92320 = 4.553"
   ]
  },
  {
   "cell_type": "markdown",
   "metadata": {},
   "source": [
    "## Question 4 \n",
    "\n",
    "If the F-score = 1, this indicates that the variance within the individual groups is the same as the variance between the groups.\n",
    "\n",
    "FScore is computed as group variance/ residual variance, thus for an Fscore of 1, the group variance = residual variance. "
   ]
  },
  {
   "cell_type": "code",
   "execution_count": 15,
   "metadata": {
    "vscode": {
     "languageId": "r"
    }
   },
   "outputs": [
    {
     "data": {
      "text/plain": [
       "             Df Sum Sq Mean Sq F value Pr(>F)    \n",
       "treatment     3  23.61   7.871   33.23 <2e-16 ***\n",
       "Residuals   196  46.43   0.237                   \n",
       "---\n",
       "Signif. codes:  0 '***' 0.001 '**' 0.01 '*' 0.05 '.' 0.1 ' ' 1"
      ]
     },
     "metadata": {},
     "output_type": "display_data"
    }
   ],
   "source": [
    "AOV = aov(model)\n",
    "summary(AOV)"
   ]
  },
  {
   "cell_type": "code",
   "execution_count": 16,
   "metadata": {
    "vscode": {
     "languageId": "r"
    }
   },
   "outputs": [
    {
     "data": {
      "text/html": [
       "2.65067651011214"
      ],
      "text/latex": [
       "2.65067651011214"
      ],
      "text/markdown": [
       "2.65067651011214"
      ],
      "text/plain": [
       "[1] 2.650677"
      ]
     },
     "metadata": {},
     "output_type": "display_data"
    }
   ],
   "source": [
    "# computing the critical f-score, qf(type I error, df of numerator, df denominator)\n",
    "qf(0.95, 3, 196)"
   ]
  },
  {
   "cell_type": "markdown",
   "metadata": {},
   "source": [
    "## Question 5\n",
    "a) the statistical conclusion is to reject H0 (F=33.23, (df_num=3, df_denom=196), a=0.05 p < 2e-16). This is because F_obs = 33.23 > F_crit = 2.651 and p << a\n",
    "\n",
    "b)"
   ]
  },
  {
   "cell_type": "markdown",
   "metadata": {},
   "source": [
    "## Question 6"
   ]
  },
  {
   "cell_type": "code",
   "execution_count": 19,
   "metadata": {
    "vscode": {
     "languageId": "r"
    }
   },
   "outputs": [
    {
     "data": {
      "text/plain": [
       "\n",
       "\tShapiro-Wilk normality test\n",
       "\n",
       "data:  residuals(model)\n",
       "W = 0.99347, p-value = 0.5239\n"
      ]
     },
     "metadata": {},
     "output_type": "display_data"
    }
   ],
   "source": [
    "shapiro.test(residuals(model))"
   ]
  },
  {
   "cell_type": "markdown",
   "metadata": {},
   "source": [
    "since p >= a, we fail to reject the null hypothesis and conclude that there is no evidence of deviation of normality. Normality holds."
   ]
  },
  {
   "cell_type": "code",
   "execution_count": 21,
   "metadata": {
    "vscode": {
     "languageId": "r"
    }
   },
   "outputs": [
    {
     "data": {
      "text/plain": [
       "\n",
       "\tBartlett test of homogeneity of variances\n",
       "\n",
       "data:  sleep by treatment\n",
       "Bartlett's K-squared = 12.148, df = 3, p-value = 0.006892\n"
      ]
     },
     "metadata": {},
     "output_type": "display_data"
    }
   ],
   "source": [
    "bartlett.test(sleep~treatment)"
   ]
  },
  {
   "cell_type": "markdown",
   "metadata": {},
   "source": [
    "since p < a, we reject the null hypothesis, concluding that there is evidence of deviation from homoscedasticity. "
   ]
  },
  {
   "cell_type": "markdown",
   "metadata": {},
   "source": [
    "## Question 7"
   ]
  },
  {
   "cell_type": "code",
   "execution_count": 22,
   "metadata": {
    "vscode": {
     "languageId": "r"
    }
   },
   "outputs": [
    {
     "data": {
      "text/plain": [
       "  Tukey multiple comparisons of means\n",
       "    95% family-wise confidence level\n",
       "\n",
       "Fit: aov(formula = model)\n",
       "\n",
       "$treatment\n",
       "                          diff        lwr          upr     p adj\n",
       "Control-CBT            -0.9232 -1.1754324 -0.670967632 0.0000000\n",
       "Medication-CBT         -0.2182 -0.4704324  0.034032368 0.1157703\n",
       "Mindfulness-CBT        -0.4742 -0.7264324 -0.221967632 0.0000135\n",
       "Medication-Control      0.7050  0.4527676  0.957232368 0.0000000\n",
       "Mindfulness-Control     0.4490  0.1967676  0.701232368 0.0000422\n",
       "Mindfulness-Medication -0.2560 -0.5082324 -0.003767632 0.0452079\n"
      ]
     },
     "metadata": {},
     "output_type": "display_data"
    }
   ],
   "source": [
    "TukeyHSD(AOV)"
   ]
  }
 ],
 "metadata": {
  "kernelspec": {
   "display_name": "R",
   "language": "R",
   "name": "ir"
  },
  "language_info": {
   "codemirror_mode": "r",
   "file_extension": ".r",
   "mimetype": "text/x-r-source",
   "name": "R",
   "pygments_lexer": "r",
   "version": "4.2.0"
  },
  "orig_nbformat": 4
 },
 "nbformat": 4,
 "nbformat_minor": 2
}
