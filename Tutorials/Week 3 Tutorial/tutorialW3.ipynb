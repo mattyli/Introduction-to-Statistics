{
 "cells": [
  {
   "cell_type": "markdown",
   "metadata": {},
   "source": [
    "## Tutorial 3 - Year 2 Statistics\n",
    "### By: Matthew Li\n",
    "\n",
    "#### Context\n",
    "We are a consulting group providing services to a farm that is experimenting with different animal feeds to determine which produces the best livestock for price. Using R we will determine which diet is best. "
   ]
  },
  {
   "cell_type": "code",
   "execution_count": 5,
   "metadata": {
    "vscode": {
     "languageId": "r"
    }
   },
   "outputs": [],
   "source": [
    "setwd(\"C:/Users/02mat/OneDrive/Desktop/Intro-To-Stats/Introduction-to-Statistics/Tutorials/Week 3 Tutorial\") #nolint\n",
    "chickData <- read.csv(\"sample_data.csv\", colClasses=c(\"character\", \"character\", \"numeric\", \"numeric\"))      # path to/ data file name"
   ]
  },
  {
   "cell_type": "markdown",
   "metadata": {},
   "source": [
    "Now we partition chickData based on what diet the chicks were fed. Then we shall proceed to determine the average chick weight for each diet."
   ]
  },
  {
   "cell_type": "code",
   "execution_count": 3,
   "metadata": {
    "vscode": {
     "languageId": "r"
    }
   },
   "outputs": [],
   "source": [
    "# partitioning data\n",
    "controlSub <- subset(chickData, Diet==\"1\")\n",
    "d2Sub <- subset(chickData, Diet==\"2\")\n",
    "d3Sub <- subset(chickData, Diet==\"3\")\n",
    "d4Sub <- subset(chickData, Diet==\"4\")\n",
    "\n",
    "# determining averages (mean)\n",
    "controlWeightMean <- mean(controlSub$Weight)\n",
    "d2WeightMean <- mean(d2Sub$Weight)\n",
    "d3WeightMean <- mean(d3Sub$Weight)\n",
    "d4WeightMean <- mean(d4Sub$Weight)"
   ]
  },
  {
   "cell_type": "markdown",
   "metadata": {},
   "source": [
    "Now we will generate plots of the diet subsets and their weights against time in days."
   ]
  },
  {
   "cell_type": "code",
   "execution_count": 4,
   "metadata": {
    "vscode": {
     "languageId": "r"
    }
   },
   "outputs": [
    {
     "ename": "ERROR",
     "evalue": "Error in xy.coords(x, y, xlabel, ylabel, log): 'x' and 'y' lengths differ\n",
     "output_type": "error",
     "traceback": [
      "Error in xy.coords(x, y, xlabel, ylabel, log): 'x' and 'y' lengths differ\nTraceback:\n",
      "1. plot(controlWeightMean, controlSub$Time, pch = 19, xlab = \"Average Chick Weight on Control Diet\", \n .     ylab = \"Time (Weeks)\")",
      "2. plot.default(controlWeightMean, controlSub$Time, pch = 19, xlab = \"Average Chick Weight on Control Diet\", \n .     ylab = \"Time (Weeks)\")",
      "3. xy.coords(x, y, xlabel, ylabel, log)",
      "4. stop(\"'x' and 'y' lengths differ\")"
     ]
    }
   ],
   "source": [
    "ctrlPlt <- plot(controlWeightMean, controlSub$Time, pch=19, xlab=\"Average Chick Weight on Control Diet\", ylab=\"Time (Weeks)\")"
   ]
  }
 ],
 "metadata": {
  "kernelspec": {
   "display_name": "R",
   "language": "R",
   "name": "ir"
  },
  "language_info": {
   "codemirror_mode": "r",
   "file_extension": ".r",
   "mimetype": "text/x-r-source",
   "name": "R",
   "pygments_lexer": "r",
   "version": "4.2.0"
  },
  "orig_nbformat": 4
 },
 "nbformat": 4,
 "nbformat_minor": 2
}
