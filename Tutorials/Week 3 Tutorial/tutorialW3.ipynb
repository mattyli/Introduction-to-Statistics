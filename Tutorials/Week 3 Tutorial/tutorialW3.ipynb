{
 "cells": [
  {
   "cell_type": "markdown",
   "metadata": {},
   "source": [
    "## Tutorial 3 - Year 2 Statistics\n",
    "### By: Matthew Li\n",
    "\n",
    "#### Context\n",
    "We are a consulting group providing services to a farm that is experimenting with different animal feeds to determine which produces the best livestock for price. Using R we will determine which diet is best. "
   ]
  },
  {
   "cell_type": "code",
   "execution_count": 3,
   "metadata": {
    "vscode": {
     "languageId": "r"
    }
   },
   "outputs": [],
   "source": [
    "#setwd(\"C:/Users/02mat/OneDrive/Desktop/Intro-To-Stats/Introduction-to-Statistics/Tutorials/Week 3 Tutorial\") #nolint\n",
    "chickData <- read.csv(\"chickweight_data.csv\", colClasses=c(\"character\", \"character\", \"numeric\", \"numeric\"))      # path to/ data file name"
   ]
  },
  {
   "cell_type": "markdown",
   "metadata": {},
   "source": [
    "Now we partition chickData based on what diet the chicks were fed. Then we shall proceed to determine the average chick weight for each diet."
   ]
  },
  {
   "cell_type": "code",
   "execution_count": 4,
   "metadata": {
    "vscode": {
     "languageId": "r"
    }
   },
   "outputs": [],
   "source": [
    "# partitioning data\n",
    "controlSub <- subset(chickData, Diet==\"1\")\n",
    "d2Sub <- subset(chickData, Diet==\"2\")\n",
    "d3Sub <- subset(chickData, Diet==\"3\")\n",
    "d4Sub <- subset(chickData, Diet==\"4\")\n",
    "\n",
    "# determining averages (mean)\n",
    "controlWeightMean <- mean(controlSub$Weight)\n",
    "d2WeightMean <- mean(d2Sub$Weight)\n",
    "d3WeightMean <- mean(d3Sub$Weight)\n",
    "d4WeightMean <- mean(d4Sub$Weight)"
   ]
  },
  {
   "cell_type": "markdown",
   "metadata": {},
   "source": [
    "Now we will generate plots of the diet subsets and their weights against time in days."
   ]
  },
  {
   "cell_type": "code",
   "execution_count": 5,
   "metadata": {
    "vscode": {
     "languageId": "r"
    }
   },
   "outputs": [
    {
     "data": {
      "image/png": "[encoded data removed]",
      "text/plain": [
       "Plot with title \"Weight (grams) over Time (days) for chicks fed on diet 1\""
      ]
     },
     "metadata": {
      "image/png": {
       "height": 420,
       "width": 420
      }
     },
     "output_type": "display_data"
    }
   ],
   "source": [
    "# making a subplot for neater display\n",
    "par(mfrow = c(2, 2))\n",
    "plot(controlSub$Time, controlSub$Weight, pch=15, xlab = \"Time (Days)\", ylab = \"Weight Grams\", main = \"Weight (grams) over Time (days) for chicks fed on diet 1\",\n",
    "    col = c(\"red\", \"blue\", \"green\", \"black\", \"purple\"))\n",
    "plot(d2Sub$Time, d2Sub$Weight, pch=15, xlab = \"Time (Days)\", ylab = \"Weight Grams\", main = \"Weight (grams) over Time (days) for chicks fed on diet 2\",\n",
    "    col = c(\"red\", \"blue\", \"green\", \"black\", \"purple\"))\n",
    "\n",
    "xAxis <- d3Sub$Time         # another dataframe containing all x values for scatter\n",
    "yAxis <- d3Sub$Weight\n",
    "plot(xAxis, yAxis, pch=15, xlab = \"Time (days)\", ylab = \"Weight (grams)\", main = \"Weight (grams) over Time (days) for chicks fed on diet 3\",\n",
    "    col = c(\"red\", \"blue\", \"green\", \"black\", \"purple\"))\n",
    "\n",
    "plot(d4Sub$Time, d4Sub$Weight, pch=15, xlab = \"Time (Days)\", ylab = \"Weight Grams\", main = \"Weight (grams) over Time (days) for chicks fed on diet 1\",\n",
    "    col = c(\"red\", \"blue\", \"green\", \"black\", \"purple\"))"
   ]
  },
  {
   "cell_type": "markdown",
   "metadata": {},
   "source": [
    "Now to make a recommendation, we must determine the percentage increase in switching diets, using the function below."
   ]
  },
  {
   "cell_type": "code",
   "execution_count": 6,
   "metadata": {
    "vscode": {
     "languageId": "r"
    }
   },
   "outputs": [
    {
     "name": "stdout",
     "output_type": "stream",
     "text": [
      "[1] 10.22319\n",
      "[1] -1.944848\n",
      "[1] 4.32108\n"
     ]
    }
   ],
   "source": [
    "calcPercentDifference <- function(avgA, avgB){\n",
    "    percentDiff <- 100 * (avgB - avgA) / avgA\n",
    "    return(percentDiff)\n",
    "}\n",
    "\n",
    "# variables to hold the percent difference in weight\n",
    "oneToTwo <- calcPercentDifference(controlWeightMean, d2WeightMean)\n",
    "twoToThree <- calcPercentDifference(d2WeightMean, d3WeightMean)\n",
    "threeToFour <- calcPercentDifference(d3WeightMean, d4WeightMean)\n",
    "\n",
    "print(oneToTwo)\n",
    "print(twoToThree)\n",
    "print(threeToFour)"
   ]
  },
  {
   "cell_type": "markdown",
   "metadata": {},
   "source": [
    "From this, we can see that Diet 2 has a 10.22% increase in weight over Diet 1, making it the most economically viable diet. Thus, the farm should choose Diet 2 to feed the chicks."
   ]
  }
 ],
 "metadata": {
  "kernelspec": {
   "display_name": "R",
   "language": "R",
   "name": "ir"
  },
  "language_info": {
   "codemirror_mode": "r",
   "file_extension": ".r",
   "mimetype": "text/x-r-source",
   "name": "R",
   "pygments_lexer": "r",
   "version": "4.2.0"
  },
  "orig_nbformat": 4
 },
 "nbformat": 4,
 "nbformat_minor": 2
}
