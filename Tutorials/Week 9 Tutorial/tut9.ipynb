{
 "cells": [
  {
   "cell_type": "markdown",
   "metadata": {},
   "source": [
    "# Week 9 Tutorial"
   ]
  },
  {
   "cell_type": "code",
   "execution_count": 1,
   "metadata": {
    "vscode": {
     "languageId": "r"
    }
   },
   "outputs": [
    {
     "data": {
      "image/png": "[encoded data removed]",
      "text/plain": [
       "Plot with title \"visualisation of community cholesterol levels\""
      ]
     },
     "metadata": {
      "image/png": {
       "height": 420,
       "width": 420
      }
     },
     "output_type": "display_data"
    }
   ],
   "source": [
    "data = read.csv(\"Cholesterol_data.csv\", colClasses=c('factor', 'numeric'))\n",
    "boxplot(data$Cholesterol, xlab=\"patients that were selected\", ylab=\"cholesterol concentration (mmol/L)\", main=\"visualisation of community cholesterol levels\")\n",
    "abline(h=5.2, col=\"red\",lwd=3)        # the national mean cholesterol level"
   ]
  },
  {
   "cell_type": "code",
   "execution_count": 2,
   "metadata": {
    "vscode": {
     "languageId": "r"
    }
   },
   "outputs": [
    {
     "data": {
      "text/html": [
       "<table class=\"dataframe\">\n",
       "<caption>A data.frame: 58 × 2</caption>\n",
       "<thead>\n",
       "\t<tr><th scope=col>ID</th><th scope=col>Cholesterol</th></tr>\n",
       "\t<tr><th scope=col>&lt;fct&gt;</th><th scope=col>&lt;dbl&gt;</th></tr>\n",
       "</thead>\n",
       "<tbody>\n",
       "\t<tr><td>1 </td><td>6.66</td></tr>\n",
       "\t<tr><td>2 </td><td>5.33</td></tr>\n",
       "\t<tr><td>3 </td><td>5.55</td></tr>\n",
       "\t<tr><td>4 </td><td>6.22</td></tr>\n",
       "\t<tr><td>5 </td><td>6.04</td></tr>\n",
       "\t<tr><td>6 </td><td>7.90</td></tr>\n",
       "\t<tr><td>7 </td><td>5.61</td></tr>\n",
       "\t<tr><td>8 </td><td>7.61</td></tr>\n",
       "\t<tr><td>9 </td><td>5.13</td></tr>\n",
       "\t<tr><td>10</td><td>8.56</td></tr>\n",
       "\t<tr><td>11</td><td>6.61</td></tr>\n",
       "\t<tr><td>12</td><td>4.88</td></tr>\n",
       "\t<tr><td>13</td><td>5.86</td></tr>\n",
       "\t<tr><td>14</td><td>6.65</td></tr>\n",
       "\t<tr><td>15</td><td>4.67</td></tr>\n",
       "\t<tr><td>16</td><td>6.63</td></tr>\n",
       "\t<tr><td>17</td><td>5.45</td></tr>\n",
       "\t<tr><td>18</td><td>5.10</td></tr>\n",
       "\t<tr><td>19</td><td>7.00</td></tr>\n",
       "\t<tr><td>20</td><td>7.56</td></tr>\n",
       "\t<tr><td>21</td><td>8.43</td></tr>\n",
       "\t<tr><td>22</td><td>6.13</td></tr>\n",
       "\t<tr><td>23</td><td>5.24</td></tr>\n",
       "\t<tr><td>24</td><td>7.07</td></tr>\n",
       "\t<tr><td>25</td><td>7.24</td></tr>\n",
       "\t<tr><td>26</td><td>4.17</td></tr>\n",
       "\t<tr><td>27</td><td>5.04</td></tr>\n",
       "\t<tr><td>28</td><td>7.78</td></tr>\n",
       "\t<tr><td>29</td><td>5.16</td></tr>\n",
       "\t<tr><td>30</td><td>6.33</td></tr>\n",
       "\t<tr><td>31</td><td>6.25</td></tr>\n",
       "\t<tr><td>32</td><td>7.74</td></tr>\n",
       "\t<tr><td>33</td><td>6.52</td></tr>\n",
       "\t<tr><td>34</td><td>6.33</td></tr>\n",
       "\t<tr><td>35</td><td>4.87</td></tr>\n",
       "\t<tr><td>36</td><td>7.44</td></tr>\n",
       "\t<tr><td>37</td><td>4.62</td></tr>\n",
       "\t<tr><td>38</td><td>4.52</td></tr>\n",
       "\t<tr><td>39</td><td>6.02</td></tr>\n",
       "\t<tr><td>40</td><td>4.72</td></tr>\n",
       "\t<tr><td>41</td><td>7.12</td></tr>\n",
       "\t<tr><td>42</td><td>4.32</td></tr>\n",
       "\t<tr><td>43</td><td>5.61</td></tr>\n",
       "\t<tr><td>44</td><td>6.27</td></tr>\n",
       "\t<tr><td>45</td><td>5.17</td></tr>\n",
       "\t<tr><td>46</td><td>5.47</td></tr>\n",
       "\t<tr><td>47</td><td>6.97</td></tr>\n",
       "\t<tr><td>48</td><td>5.10</td></tr>\n",
       "\t<tr><td>49</td><td>6.10</td></tr>\n",
       "\t<tr><td>50</td><td>9.29</td></tr>\n",
       "\t<tr><td>51</td><td>6.37</td></tr>\n",
       "\t<tr><td>52</td><td>5.15</td></tr>\n",
       "\t<tr><td>53</td><td>8.55</td></tr>\n",
       "\t<tr><td>54</td><td>5.51</td></tr>\n",
       "\t<tr><td>55</td><td>7.74</td></tr>\n",
       "\t<tr><td>56</td><td>6.34</td></tr>\n",
       "\t<tr><td>57</td><td>5.78</td></tr>\n",
       "\t<tr><td>58</td><td>5.68</td></tr>\n",
       "</tbody>\n",
       "</table>\n"
      ],
      "text/latex": [
       "A data.frame: 58 × 2\n",
       "\\begin{tabular}{ll}\n",
       " ID & Cholesterol\\\\\n",
       " <fct> & <dbl>\\\\\n",
       "\\hline\n",
       "\t 1  & 6.66\\\\\n",
       "\t 2  & 5.33\\\\\n",
       "\t 3  & 5.55\\\\\n",
       "\t 4  & 6.22\\\\\n",
       "\t 5  & 6.04\\\\\n",
       "\t 6  & 7.90\\\\\n",
       "\t 7  & 5.61\\\\\n",
       "\t 8  & 7.61\\\\\n",
       "\t 9  & 5.13\\\\\n",
       "\t 10 & 8.56\\\\\n",
       "\t 11 & 6.61\\\\\n",
       "\t 12 & 4.88\\\\\n",
       "\t 13 & 5.86\\\\\n",
       "\t 14 & 6.65\\\\\n",
       "\t 15 & 4.67\\\\\n",
       "\t 16 & 6.63\\\\\n",
       "\t 17 & 5.45\\\\\n",
       "\t 18 & 5.10\\\\\n",
       "\t 19 & 7.00\\\\\n",
       "\t 20 & 7.56\\\\\n",
       "\t 21 & 8.43\\\\\n",
       "\t 22 & 6.13\\\\\n",
       "\t 23 & 5.24\\\\\n",
       "\t 24 & 7.07\\\\\n",
       "\t 25 & 7.24\\\\\n",
       "\t 26 & 4.17\\\\\n",
       "\t 27 & 5.04\\\\\n",
       "\t 28 & 7.78\\\\\n",
       "\t 29 & 5.16\\\\\n",
       "\t 30 & 6.33\\\\\n",
       "\t 31 & 6.25\\\\\n",
       "\t 32 & 7.74\\\\\n",
       "\t 33 & 6.52\\\\\n",
       "\t 34 & 6.33\\\\\n",
       "\t 35 & 4.87\\\\\n",
       "\t 36 & 7.44\\\\\n",
       "\t 37 & 4.62\\\\\n",
       "\t 38 & 4.52\\\\\n",
       "\t 39 & 6.02\\\\\n",
       "\t 40 & 4.72\\\\\n",
       "\t 41 & 7.12\\\\\n",
       "\t 42 & 4.32\\\\\n",
       "\t 43 & 5.61\\\\\n",
       "\t 44 & 6.27\\\\\n",
       "\t 45 & 5.17\\\\\n",
       "\t 46 & 5.47\\\\\n",
       "\t 47 & 6.97\\\\\n",
       "\t 48 & 5.10\\\\\n",
       "\t 49 & 6.10\\\\\n",
       "\t 50 & 9.29\\\\\n",
       "\t 51 & 6.37\\\\\n",
       "\t 52 & 5.15\\\\\n",
       "\t 53 & 8.55\\\\\n",
       "\t 54 & 5.51\\\\\n",
       "\t 55 & 7.74\\\\\n",
       "\t 56 & 6.34\\\\\n",
       "\t 57 & 5.78\\\\\n",
       "\t 58 & 5.68\\\\\n",
       "\\end{tabular}\n"
      ],
      "text/markdown": [
       "\n",
       "A data.frame: 58 × 2\n",
       "\n",
       "| ID &lt;fct&gt; | Cholesterol &lt;dbl&gt; |\n",
       "|---|---|\n",
       "| 1  | 6.66 |\n",
       "| 2  | 5.33 |\n",
       "| 3  | 5.55 |\n",
       "| 4  | 6.22 |\n",
       "| 5  | 6.04 |\n",
       "| 6  | 7.90 |\n",
       "| 7  | 5.61 |\n",
       "| 8  | 7.61 |\n",
       "| 9  | 5.13 |\n",
       "| 10 | 8.56 |\n",
       "| 11 | 6.61 |\n",
       "| 12 | 4.88 |\n",
       "| 13 | 5.86 |\n",
       "| 14 | 6.65 |\n",
       "| 15 | 4.67 |\n",
       "| 16 | 6.63 |\n",
       "| 17 | 5.45 |\n",
       "| 18 | 5.10 |\n",
       "| 19 | 7.00 |\n",
       "| 20 | 7.56 |\n",
       "| 21 | 8.43 |\n",
       "| 22 | 6.13 |\n",
       "| 23 | 5.24 |\n",
       "| 24 | 7.07 |\n",
       "| 25 | 7.24 |\n",
       "| 26 | 4.17 |\n",
       "| 27 | 5.04 |\n",
       "| 28 | 7.78 |\n",
       "| 29 | 5.16 |\n",
       "| 30 | 6.33 |\n",
       "| 31 | 6.25 |\n",
       "| 32 | 7.74 |\n",
       "| 33 | 6.52 |\n",
       "| 34 | 6.33 |\n",
       "| 35 | 4.87 |\n",
       "| 36 | 7.44 |\n",
       "| 37 | 4.62 |\n",
       "| 38 | 4.52 |\n",
       "| 39 | 6.02 |\n",
       "| 40 | 4.72 |\n",
       "| 41 | 7.12 |\n",
       "| 42 | 4.32 |\n",
       "| 43 | 5.61 |\n",
       "| 44 | 6.27 |\n",
       "| 45 | 5.17 |\n",
       "| 46 | 5.47 |\n",
       "| 47 | 6.97 |\n",
       "| 48 | 5.10 |\n",
       "| 49 | 6.10 |\n",
       "| 50 | 9.29 |\n",
       "| 51 | 6.37 |\n",
       "| 52 | 5.15 |\n",
       "| 53 | 8.55 |\n",
       "| 54 | 5.51 |\n",
       "| 55 | 7.74 |\n",
       "| 56 | 6.34 |\n",
       "| 57 | 5.78 |\n",
       "| 58 | 5.68 |\n",
       "\n"
      ],
      "text/plain": [
       "   ID Cholesterol\n",
       "1  1  6.66       \n",
       "2  2  5.33       \n",
       "3  3  5.55       \n",
       "4  4  6.22       \n",
       "5  5  6.04       \n",
       "6  6  7.90       \n",
       "7  7  5.61       \n",
       "8  8  7.61       \n",
       "9  9  5.13       \n",
       "10 10 8.56       \n",
       "11 11 6.61       \n",
       "12 12 4.88       \n",
       "13 13 5.86       \n",
       "14 14 6.65       \n",
       "15 15 4.67       \n",
       "16 16 6.63       \n",
       "17 17 5.45       \n",
       "18 18 5.10       \n",
       "19 19 7.00       \n",
       "20 20 7.56       \n",
       "21 21 8.43       \n",
       "22 22 6.13       \n",
       "23 23 5.24       \n",
       "24 24 7.07       \n",
       "25 25 7.24       \n",
       "26 26 4.17       \n",
       "27 27 5.04       \n",
       "28 28 7.78       \n",
       "29 29 5.16       \n",
       "30 30 6.33       \n",
       "31 31 6.25       \n",
       "32 32 7.74       \n",
       "33 33 6.52       \n",
       "34 34 6.33       \n",
       "35 35 4.87       \n",
       "36 36 7.44       \n",
       "37 37 4.62       \n",
       "38 38 4.52       \n",
       "39 39 6.02       \n",
       "40 40 4.72       \n",
       "41 41 7.12       \n",
       "42 42 4.32       \n",
       "43 43 5.61       \n",
       "44 44 6.27       \n",
       "45 45 5.17       \n",
       "46 46 5.47       \n",
       "47 47 6.97       \n",
       "48 48 5.10       \n",
       "49 49 6.10       \n",
       "50 50 9.29       \n",
       "51 51 6.37       \n",
       "52 52 5.15       \n",
       "53 53 8.55       \n",
       "54 54 5.51       \n",
       "55 55 7.74       \n",
       "56 56 6.34       \n",
       "57 57 5.78       \n",
       "58 58 5.68       "
      ]
     },
     "metadata": {},
     "output_type": "display_data"
    }
   ],
   "source": [
    "data"
   ]
  },
  {
   "cell_type": "markdown",
   "metadata": {},
   "source": [
    "the median communal cholesterol level is significantly higher than the threshold."
   ]
  },
  {
   "cell_type": "markdown",
   "metadata": {},
   "source": [
    "### Performing the t-test\n",
    "\n",
    "I assumed that a one-sample one-tailed t-test should be performed:\n",
    "- H0 = average community cholesterol level is lower/equal to than the national average\n",
    "- HA = average community chloesterol level is higher than the national average\n"
   ]
  },
  {
   "cell_type": "code",
   "execution_count": 3,
   "metadata": {
    "vscode": {
     "languageId": "r"
    }
   },
   "outputs": [
    {
     "data": {
      "text/plain": [
       "\n",
       "\tOne Sample t-test\n",
       "\n",
       "data:  data$Cholesterol\n",
       "t = 6.3752, df = 57, p-value = 1.735e-08\n",
       "alternative hypothesis: true mean is greater than 5.2\n",
       "95 percent confidence interval:\n",
       " 5.932387      Inf\n",
       "sample estimates:\n",
       "mean of x \n",
       " 6.192759 \n"
      ]
     },
     "metadata": {},
     "output_type": "display_data"
    }
   ],
   "source": [
    "t.test(data$Cholesterol, mu=5.2, alternative=\"greater\") # alternative greater than average"
   ]
  },
  {
   "cell_type": "code",
   "execution_count": 4,
   "metadata": {
    "vscode": {
     "languageId": "r"
    }
   },
   "outputs": [
    {
     "data": {
      "text/html": [
       "1.67202888846095"
      ],
      "text/latex": [
       "1.67202888846095"
      ],
      "text/markdown": [
       "1.67202888846095"
      ],
      "text/plain": [
       "[1] 1.672029"
      ]
     },
     "metadata": {},
     "output_type": "display_data"
    }
   ],
   "source": [
    "qt(0.95, 57) # since we're only interested in the top tail"
   ]
  }
 ],
 "metadata": {
  "kernelspec": {
   "display_name": "R",
   "language": "R",
   "name": "ir"
  },
  "language_info": {
   "codemirror_mode": "r",
   "file_extension": ".r",
   "mimetype": "text/x-r-source",
   "name": "R",
   "pygments_lexer": "r",
   "version": "4.2.0"
  },
  "orig_nbformat": 4
 },
 "nbformat": 4,
 "nbformat_minor": 2
}
