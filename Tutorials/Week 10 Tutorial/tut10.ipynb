{
 "cells": [
  {
   "cell_type": "code",
   "execution_count": 4,
   "metadata": {
    "vscode": {
     "languageId": "r"
    }
   },
   "outputs": [
    {
     "data": {
      "text/plain": [
       "                \n",
       "                 Democrat Independent Republican Unsure/Refused\n",
       "  Asian American      305         323         57             38\n",
       "  Black              1032         412         61             58\n",
       "  Hispanic            884         788        412             84\n",
       "  White              2104        2522       2753            211"
      ]
     },
     "metadata": {},
     "output_type": "display_data"
    }
   ],
   "source": [
    "data = read.csv(\"Politicalparty_data.csv\", colClasses=c('factor', 'factor', 'factor', 'factor'))\n",
    "tb = table(data$Race, data$Party)\n",
    "tb"
   ]
  },
  {
   "cell_type": "code",
   "execution_count": 7,
   "metadata": {
    "vscode": {
     "languageId": "r"
    }
   },
   "outputs": [
    {
     "data": {
      "text/plain": [
       "\n",
       "\tPearson's Chi-squared test\n",
       "\n",
       "data:  tb\n",
       "X-squared = 1325.2, df = 9, p-value < 2.2e-16\n"
      ]
     },
     "metadata": {},
     "output_type": "display_data"
    }
   ],
   "source": [
    "chisq.test(tb)"
   ]
  },
  {
   "cell_type": "code",
   "execution_count": 8,
   "metadata": {
    "vscode": {
     "languageId": "r"
    }
   },
   "outputs": [
    {
     "data": {
      "text/plain": [
       "\n",
       "\tPearson's Chi-squared test\n",
       "\n",
       "data:  data$Race and data$Party\n",
       "X-squared = 1325.2, df = 9, p-value < 2.2e-16\n"
      ]
     },
     "metadata": {},
     "output_type": "display_data"
    }
   ],
   "source": [
    "chisq.test(data$Race, data$Party)"
   ]
  },
  {
   "cell_type": "code",
   "execution_count": 9,
   "metadata": {
    "vscode": {
     "languageId": "r"
    }
   },
   "outputs": [
    {
     "data": {
      "text/html": [
       "16.9189776046204"
      ],
      "text/latex": [
       "16.9189776046204"
      ],
      "text/markdown": [
       "16.9189776046204"
      ],
      "text/plain": [
       "[1] 16.91898"
      ]
     },
     "metadata": {},
     "output_type": "display_data"
    }
   ],
   "source": [
    "qchisq(0.95, 9) # assuming type I = 0.05, df = 9"
   ]
  },
  {
   "cell_type": "code",
   "execution_count": 5,
   "metadata": {
    "vscode": {
     "languageId": "r"
    }
   },
   "outputs": [
    {
     "data": {
      "text/plain": [
       ", , vegetarian = 1, vegan = 12\n",
       "\n",
       "          no\n",
       "Observed   11 8\n",
       "  family    0 0\n",
       "  fastfood  0 1\n",
       "\n",
       ", , vegetarian = 9, vegan = 12\n",
       "\n",
       "          no\n",
       "Observed   11 8\n",
       "  family    0 0\n",
       "  fastfood  0 0\n",
       "\n",
       ", , vegetarian = 1, vegan = 3\n",
       "\n",
       "          no\n",
       "Observed   11 8\n",
       "  family    0 0\n",
       "  fastfood  0 0\n",
       "\n",
       ", , vegetarian = 9, vegan = 3\n",
       "\n",
       "          no\n",
       "Observed   11 8\n",
       "  family    1 0\n",
       "  fastfood  0 0\n"
      ]
     },
     "metadata": {},
     "output_type": "display_data"
    }
   ],
   "source": [
    "foodData = read.csv(\"food.csv\", colClasses=c('factor', 'factor', 'factor'))\n",
    "table(foodData)"
   ]
  },
  {
   "cell_type": "code",
   "execution_count": 12,
   "metadata": {
    "vscode": {
     "languageId": "r"
    }
   },
   "outputs": [
    {
     "data": {
      "text/html": [
       "<style>\n",
       ".list-inline {list-style: none; margin:0; padding: 0}\n",
       ".list-inline>li {display: inline-block}\n",
       ".list-inline>li:not(:last-child)::after {content: \"\\00b7\"; padding: 0 .5ex}\n",
       "</style>\n",
       "<ol class=list-inline><li>-2</li><li>-1</li><li>3</li><li>-1</li><li>14</li><li>6</li><li>-3</li><li>4</li><li>18</li><li>1</li><li>0</li><li>16</li></ol>\n"
      ],
      "text/latex": [
       "\\begin{enumerate*}\n",
       "\\item -2\n",
       "\\item -1\n",
       "\\item 3\n",
       "\\item -1\n",
       "\\item 14\n",
       "\\item 6\n",
       "\\item -3\n",
       "\\item 4\n",
       "\\item 18\n",
       "\\item 1\n",
       "\\item 0\n",
       "\\item 16\n",
       "\\end{enumerate*}\n"
      ],
      "text/markdown": [
       "1. -2\n",
       "2. -1\n",
       "3. 3\n",
       "4. -1\n",
       "5. 14\n",
       "6. 6\n",
       "7. -3\n",
       "8. 4\n",
       "9. 18\n",
       "10. 1\n",
       "11. 0\n",
       "12. 16\n",
       "\n",
       "\n"
      ],
      "text/plain": [
       " [1] -2 -1  3 -1 14  6 -3  4 18  1  0 16"
      ]
     },
     "metadata": {},
     "output_type": "display_data"
    }
   ],
   "source": [
    "data = c(-2, -1, 3, -1, 14, 6, -3, 4, 18, 1, 0, 16)\n",
    "data"
   ]
  },
  {
   "cell_type": "code",
   "execution_count": null,
   "metadata": {
    "vscode": {
     "languageId": "r"
    }
   },
   "outputs": [],
   "source": []
  },
  {
   "cell_type": "code",
   "execution_count": 11,
   "metadata": {
    "vscode": {
     "languageId": "r"
    }
   },
   "outputs": [
    {
     "data": {
      "text/html": [
       "14"
      ],
      "text/latex": [
       "14"
      ],
      "text/markdown": [
       "14"
      ],
      "text/plain": [
       "[1] 14"
      ]
     },
     "metadata": {},
     "output_type": "display_data"
    }
   ],
   "source": []
  }
 ],
 "metadata": {
  "kernelspec": {
   "display_name": "R",
   "language": "R",
   "name": "ir"
  },
  "language_info": {
   "codemirror_mode": "r",
   "file_extension": ".r",
   "mimetype": "text/x-r-source",
   "name": "R",
   "pygments_lexer": "r",
   "version": "4.2.0"
  },
  "orig_nbformat": 4
 },
 "nbformat": 4,
 "nbformat_minor": 2
}
