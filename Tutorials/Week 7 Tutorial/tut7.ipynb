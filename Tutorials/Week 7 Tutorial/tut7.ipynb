{
 "cells": [
  {
   "cell_type": "markdown",
   "metadata": {},
   "source": [
    "# Week 7 Tutorial\n",
    "\n",
    "Premise:\n",
    "\n",
    "Comparing the different finishing times between different years of the Boston Marathon. The data sets are contained within this folder."
   ]
  },
  {
   "cell_type": "code",
   "execution_count": 53,
   "metadata": {
    "vscode": {
     "languageId": "r"
    }
   },
   "outputs": [],
   "source": [
    "winningTimes = read.csv(\"Winning_Times_Marathon.csv\", colClasses=c(\"factor\", \"numeric\", \"factor\"))"
   ]
  },
  {
   "cell_type": "markdown",
   "metadata": {},
   "source": [
    "What were the winning times in 1968?"
   ]
  },
  {
   "cell_type": "code",
   "execution_count": 54,
   "metadata": {
    "vscode": {
     "languageId": "r"
    }
   },
   "outputs": [
    {
     "name": "stdout",
     "output_type": "stream",
     "text": [
      "    Year Minutes    Sex\n",
      "72  1968   142.3   male\n",
      "125 1968   210.0 female\n"
     ]
    }
   ],
   "source": [
    "win1968 = subset(winningTimes, Year == \"1968\")\n",
    "print(win1968)"
   ]
  },
  {
   "cell_type": "markdown",
   "metadata": {},
   "source": [
    "What percent of racers in 2019 (new dataset) beat the winning times (1968)?"
   ]
  },
  {
   "cell_type": "code",
   "execution_count": 55,
   "metadata": {
    "vscode": {
     "languageId": "r"
    }
   },
   "outputs": [
    {
     "data": {
      "image/png": "[encoded data removed]",
      "text/plain": [
       "Plot with title \"frequency of runners (M)\""
      ]
     },
     "metadata": {
      "image/png": {
       "height": 420,
       "width": 420
      }
     },
     "output_type": "display_data"
    },
    {
     "data": {
      "image/png": "[encoded data removed]",
      "text/plain": [
       "Plot with title \"frequency of runners (F)\""
      ]
     },
     "metadata": {
      "image/png": {
       "height": 420,
       "width": 420
      }
     },
     "output_type": "display_data"
    }
   ],
   "source": [
    "wt2019 = read.csv('marathon_times.csv', colClasses=c('factor', 'factor', 'character', 'factor', 'factor', 'numeric', 'numeric'))\n",
    "menU30 = subset(wt2019, Age < 30 & Gender==\"M\")\n",
    "womenU30 = subset(wt2019, Age < 30 & Gender==\"F\")\n",
    "\n",
    "hist(menU30$OfficialTime.Minutes, xlab=\"time (mins)\", ylab=\"frequency (#)\", main=\"frequency of runners (M)\")\n",
    "abline(v=142.3, col=\"blue\", lwd=4)\n",
    "\n",
    "hist(womenU30$OfficialTime.Minutes, xlab=\"time (mins)\", ylab=\"frequency (#)\", main=\"frequency of runners (F)\")\n",
    "abline(v=210.0, col=\"red\", lwd=4)"
   ]
  },
  {
   "cell_type": "markdown",
   "metadata": {},
   "source": [
    "What percentage of men and women beat the 1968 times respectively?"
   ]
  },
  {
   "cell_type": "code",
   "execution_count": 56,
   "metadata": {
    "vscode": {
     "languageId": "r"
    }
   },
   "outputs": [
    {
     "name": "stdout",
     "output_type": "stream",
     "text": [
      "[1] 0.621118\n",
      "[1] 30.21182\n"
     ]
    }
   ],
   "source": [
    "men1968 = 142.3\n",
    "women1968 = 210.0\n",
    "winnerMen = subset(menU30, OfficialTime.Minutes < men1968)\n",
    "winnerWomen = subset(womenU30, OfficialTime.Minutes < women1968)\n",
    "\n",
    "percentMen = nrow(winnerMen)/ nrow(menU30)\n",
    "print(percentMen*100)\n",
    "\n",
    "percentWomen = nrow(winnerWomen)/ nrow(womenU30)\n",
    "print(percentWomen*100)"
   ]
  },
  {
   "cell_type": "markdown",
   "metadata": {},
   "source": [
    "How closely does a normal distributin approximate the race times, calculate the mean and standard deviation."
   ]
  },
  {
   "cell_type": "code",
   "execution_count": 57,
   "metadata": {
    "vscode": {
     "languageId": "r"
    }
   },
   "outputs": [
    {
     "name": "stdout",
     "output_type": "stream",
     "text": [
      "Standard Deviation (MEN) 46.60096 Mean (MEN) 205.2194NULL\n",
      "Standard Deviation (WOMEN) 45.66422 Mean (WOMEN) 239.8502NULL\n"
     ]
    }
   ],
   "source": [
    "# men\n",
    "sdMen = sd(menU30$OfficialTime.Minutes)\n",
    "meanMen = mean(menU30$OfficialTime.Minutes)\n",
    "\n",
    "sdWomen = sd(womenU30$OfficialTime.Minutes)\n",
    "meanWomen = mean(womenU30$OfficialTime.Minutes)\n",
    "print(cat(\"Standard Deviation (MEN)\", sdMen, \"Mean (MEN)\", meanMen))\n",
    "print(cat(\"Standard Deviation (WOMEN)\", sdWomen, \"Mean (WOMEN)\", meanWomen))"
   ]
  },
  {
   "cell_type": "markdown",
   "metadata": {},
   "source": [
    "what is the probability of beating the winning times of 1968 for men and women?"
   ]
  },
  {
   "cell_type": "code",
   "execution_count": 58,
   "metadata": {
    "vscode": {
     "languageId": "r"
    }
   },
   "outputs": [
    {
     "name": "stdout",
     "output_type": "stream",
     "text": [
      "[1] 0.08848025\n",
      "[1] 0.2566558\n"
     ]
    }
   ],
   "source": [
    "print(pnorm(men1968, meanMen, sdMen))\n",
    "print(pnorm(women1968, meanWomen, sdWomen))"
   ]
  },
  {
   "cell_type": "code",
   "execution_count": 59,
   "metadata": {
    "vscode": {
     "languageId": "r"
    }
   },
   "outputs": [
    {
     "name": "stdout",
     "output_type": "stream",
     "text": [
      "[1] 145.4978\n",
      "[1] 181.3292\n"
     ]
    }
   ],
   "source": [
    "# fastest 10%\n",
    "\n",
    "print(qnorm(0.1, meanMen, sdMen))\n",
    "print(qnorm(0.1, meanWomen, sdWomen))"
   ]
  }
 ],
 "metadata": {
  "kernelspec": {
   "display_name": "R",
   "language": "R",
   "name": "ir"
  },
  "language_info": {
   "codemirror_mode": "r",
   "file_extension": ".r",
   "mimetype": "text/x-r-source",
   "name": "R",
   "pygments_lexer": "r",
   "version": "4.2.0"
  },
  "orig_nbformat": 4,
  "vscode": {
   "interpreter": {
    "hash": "b6213e0af081d56db034f795ff49d96980936e2ae540dda57fc6c3cbea6a5fc9"
   }
  }
 },
 "nbformat": 4,
 "nbformat_minor": 2
}
