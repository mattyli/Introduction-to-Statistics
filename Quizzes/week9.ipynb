{
 "cells": [
  {
   "cell_type": "code",
   "execution_count": 13,
   "metadata": {
    "vscode": {
     "languageId": "r"
    }
   },
   "outputs": [
    {
     "data": {
      "text/plain": [
       "        \n",
       "          F  M\n",
       "  Lower  38 50\n",
       "  Middle 74 69\n",
       "  Upper  75 39"
      ]
     },
     "metadata": {},
     "output_type": "display_data"
    },
    {
     "name": "stdout",
     "output_type": "stream",
     "text": [
      "[1] 345\n"
     ]
    }
   ],
   "source": [
    "data = read.csv(\"MinnesotaHighSchool.csv\", colClasses=c('factor', 'factor', 'factor', 'factor'))\n",
    "#subData = (subset(data, HighSchoolRank == 'Middle' & Sex == 'F'))\n",
    "\n",
    "table(data$HighSchoolRank, data$Sex)\n",
    "print(nrow(data))"
   ]
  },
  {
   "cell_type": "code",
   "execution_count": 16,
   "metadata": {
    "vscode": {
     "languageId": "r"
    }
   },
   "outputs": [
    {
     "data": {
      "text/plain": [
       "\n",
       "\tPearson's Chi-squared test\n",
       "\n",
       "data:  data$HighSchoolRank and data$Sex\n",
       "X-squared = 10.818, df = 2, p-value = 0.004475\n"
      ]
     },
     "metadata": {},
     "output_type": "display_data"
    }
   ],
   "source": [
    "chisq.test(data$HighSchoolRank, data$Sex)"
   ]
  },
  {
   "cell_type": "code",
   "execution_count": 17,
   "metadata": {
    "vscode": {
     "languageId": "r"
    }
   },
   "outputs": [
    {
     "data": {
      "text/plain": [
       "\n",
       "\tPearson's Chi-squared test\n",
       "\n",
       "data:  data$Sex and data$HighSchoolRank\n",
       "X-squared = 10.818, df = 2, p-value = 0.004475\n"
      ]
     },
     "metadata": {},
     "output_type": "display_data"
    }
   ],
   "source": [
    "chisq.test(data$Sex, data$HighSchoolRank)"
   ]
  },
  {
   "cell_type": "code",
   "execution_count": 18,
   "metadata": {
    "vscode": {
     "languageId": "r"
    }
   },
   "outputs": [
    {
     "data": {
      "text/html": [
       "2.91998558035372"
      ],
      "text/latex": [
       "2.91998558035372"
      ],
      "text/markdown": [
       "2.91998558035372"
      ],
      "text/plain": [
       "[1] 2.919986"
      ]
     },
     "metadata": {},
     "output_type": "display_data"
    }
   ],
   "source": [
    "qt(0.95, 2)"
   ]
  },
  {
   "cell_type": "markdown",
   "metadata": {},
   "source": [
    "Question 4"
   ]
  },
  {
   "cell_type": "code",
   "execution_count": 19,
   "metadata": {
    "vscode": {
     "languageId": "r"
    }
   },
   "outputs": [
    {
     "data": {
      "text/plain": [
       "        \n",
       "         CollEduc Employed NonColEduc Other\n",
       "  Lower        18        3          3    64\n",
       "  Middle       39       11         10    83\n",
       "  Upper        45       10          7    52"
      ]
     },
     "metadata": {},
     "output_type": "display_data"
    }
   ],
   "source": [
    "table(data$HighSchoolRank, data$PostGrad)"
   ]
  },
  {
   "cell_type": "code",
   "execution_count": 20,
   "metadata": {
    "vscode": {
     "languageId": "r"
    }
   },
   "outputs": [
    {
     "data": {
      "text/plain": [
       "\n",
       "\tPearson's Chi-squared test\n",
       "\n",
       "data:  data$HighSchoolRank and data$PostGrad\n",
       "X-squared = 16.33, df = 6, p-value = 0.01209\n"
      ]
     },
     "metadata": {},
     "output_type": "display_data"
    }
   ],
   "source": [
    "chisq.test(data$HighSchoolRank, data$PostGrad)"
   ]
  },
  {
   "cell_type": "code",
   "execution_count": 21,
   "metadata": {
    "vscode": {
     "languageId": "r"
    }
   },
   "outputs": [
    {
     "data": {
      "text/html": [
       "1.9431802805153"
      ],
      "text/latex": [
       "1.9431802805153"
      ],
      "text/markdown": [
       "1.9431802805153"
      ],
      "text/plain": [
       "[1] 1.94318"
      ]
     },
     "metadata": {},
     "output_type": "display_data"
    }
   ],
   "source": [
    "qt(0.95, 6)"
   ]
  }
 ],
 "metadata": {
  "kernelspec": {
   "display_name": "R",
   "language": "R",
   "name": "ir"
  },
  "language_info": {
   "codemirror_mode": "r",
   "file_extension": ".r",
   "mimetype": "text/x-r-source",
   "name": "R",
   "pygments_lexer": "r",
   "version": "4.2.0"
  },
  "orig_nbformat": 4
 },
 "nbformat": 4,
 "nbformat_minor": 2
}
