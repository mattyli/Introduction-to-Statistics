{
 "cells": [
  {
   "cell_type": "markdown",
   "metadata": {},
   "source": [
    "### Question 1"
   ]
  },
  {
   "cell_type": "code",
   "execution_count": 12,
   "metadata": {
    "vscode": {
     "languageId": "r"
    }
   },
   "outputs": [
    {
     "data": {
      "text/plain": [
       "\n",
       "\tWelch Two Sample t-test\n",
       "\n",
       "data:  Sugar by Generation\n",
       "t = -4.5735, df = 195.76, p-value = 8.496e-06\n",
       "alternative hypothesis: true difference in means between group Adult and group Teenager is not equal to 0\n",
       "95 percent confidence interval:\n",
       " -29.04395 -11.54249\n",
       "sample estimates:\n",
       "   mean in group Adult mean in group Teenager \n",
       "              88.44919              108.74241 \n"
      ]
     },
     "metadata": {},
     "output_type": "display_data"
    }
   ],
   "source": [
    "q1Data = read.csv(\"Quiz3_DataSet1_3.csv\", colClasses = c('factor', 'numeric'))\n",
    "t.test(Sugar~Generation, data=q1Data)"
   ]
  },
  {
   "cell_type": "markdown",
   "metadata": {},
   "source": [
    "mean difference : 108.742 - 88.449 = 20.29\n",
    "\n",
    "assuming two - tailed (no directionality):\n",
    "qt(0.025, 195.76)"
   ]
  },
  {
   "cell_type": "markdown",
   "metadata": {},
   "source": [
    "### Question 2"
   ]
  },
  {
   "cell_type": "code",
   "execution_count": 13,
   "metadata": {
    "vscode": {
     "languageId": "r"
    }
   },
   "outputs": [
    {
     "data": {
      "text/html": [
       "1.97215624186948"
      ],
      "text/latex": [
       "1.97215624186948"
      ],
      "text/markdown": [
       "1.97215624186948"
      ],
      "text/plain": [
       "[1] 1.972156"
      ]
     },
     "metadata": {},
     "output_type": "display_data"
    }
   ],
   "source": [
    "abs(qt(0.025, 195.76))"
   ]
  },
  {
   "cell_type": "code",
   "execution_count": 14,
   "metadata": {
    "vscode": {
     "languageId": "r"
    }
   },
   "outputs": [
    {
     "data": {
      "text/plain": [
       "\n",
       "\tPearson's Chi-squared test\n",
       "\n",
       "data:  q2Data$Sugar and q2Data$Sex\n",
       "X-squared = 1.5332, df = 2, p-value = 0.4646\n"
      ]
     },
     "metadata": {},
     "output_type": "display_data"
    }
   ],
   "source": [
    "q2Data = read.csv(\"Quiz3_DataSet2_11.csv\", colClasses=c('factor', 'factor'))\n",
    "chisq.test(q2Data$Sugar, q2Data$Sex)"
   ]
  },
  {
   "cell_type": "code",
   "execution_count": 15,
   "metadata": {
    "vscode": {
     "languageId": "r"
    }
   },
   "outputs": [
    {
     "data": {
      "text/html": [
       "5.99146454710798"
      ],
      "text/latex": [
       "5.99146454710798"
      ],
      "text/markdown": [
       "5.99146454710798"
      ],
      "text/plain": [
       "[1] 5.991465"
      ]
     },
     "metadata": {},
     "output_type": "display_data"
    }
   ],
   "source": [
    "qchisq(0.95, 2) # it's a 1 tailed test with df = 2, a = 0.05"
   ]
  }
 ],
 "metadata": {
  "kernelspec": {
   "display_name": "R",
   "language": "R",
   "name": "ir"
  },
  "language_info": {
   "codemirror_mode": "r",
   "file_extension": ".r",
   "mimetype": "text/x-r-source",
   "name": "R",
   "pygments_lexer": "r",
   "version": "4.2.0"
  },
  "orig_nbformat": 4
 },
 "nbformat": 4,
 "nbformat_minor": 2
}
