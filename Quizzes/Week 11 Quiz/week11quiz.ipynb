{
 "cells": [
  {
   "cell_type": "markdown",
   "metadata": {},
   "source": [
    "# Week 11 Quiz"
   ]
  },
  {
   "cell_type": "code",
   "execution_count": 8,
   "metadata": {
    "vscode": {
     "languageId": "r"
    }
   },
   "outputs": [
    {
     "data": {
      "image/png": "[encoded data removed]",
      "text/plain": [
       "plot without title"
      ]
     },
     "metadata": {
      "image/png": {
       "height": 420,
       "width": 420
      }
     },
     "output_type": "display_data"
    }
   ],
   "source": [
    "data = read.csv(\"GrowthHormonesC.csv\", colClasses=c('factor', 'numeric'))\n",
    "boxplot(Growth~Treatment, data=data)    # growth over the treatment levels\n"
   ]
  },
  {
   "cell_type": "code",
   "execution_count": 9,
   "metadata": {
    "vscode": {
     "languageId": "r"
    }
   },
   "outputs": [
    {
     "data": {
      "text/plain": [
       "\n",
       "Call:\n",
       "lm(formula = data$Growth ~ data$Treatment)\n",
       "\n",
       "Residuals:\n",
       "   Min     1Q Median     3Q    Max \n",
       "-3.000 -2.125 -0.250  2.125  3.250 \n",
       "\n",
       "Coefficients:\n",
       "                Estimate Std. Error t value Pr(>|t|)    \n",
       "(Intercept)       22.500      1.281  17.566 6.31e-10 ***\n",
       "data$TreatmentB   -3.500      1.811  -1.932  0.07729 .  \n",
       "data$TreatmentC   -7.750      1.811  -4.278  0.00107 ** \n",
       "data$TreatmentD   -4.000      1.811  -2.208  0.04743 *  \n",
       "---\n",
       "Signif. codes:  0 '***' 0.001 '**' 0.01 '*' 0.05 '.' 0.1 ' ' 1\n",
       "\n",
       "Residual standard error: 2.562 on 12 degrees of freedom\n",
       "Multiple R-squared:  0.6051,\tAdjusted R-squared:  0.5064 \n",
       "F-statistic:  6.13 on 3 and 12 DF,  p-value: 0.009035\n"
      ]
     },
     "metadata": {},
     "output_type": "display_data"
    }
   ],
   "source": [
    "model = lm(data$Growth~data$Treatment)\n",
    "summary(model)"
   ]
  },
  {
   "cell_type": "code",
   "execution_count": 10,
   "metadata": {
    "vscode": {
     "languageId": "r"
    }
   },
   "outputs": [
    {
     "data": {
      "text/plain": [
       "               Df Sum Sq Mean Sq F value  Pr(>F)   \n",
       "data$Treatment  3 120.69   40.23    6.13 0.00903 **\n",
       "Residuals      12  78.75    6.56                   \n",
       "---\n",
       "Signif. codes:  0 '***' 0.001 '**' 0.01 '*' 0.05 '.' 0.1 ' ' 1"
      ]
     },
     "metadata": {},
     "output_type": "display_data"
    }
   ],
   "source": [
    "AOV = aov(model)\n",
    "summary(AOV)"
   ]
  },
  {
   "cell_type": "code",
   "execution_count": 11,
   "metadata": {
    "vscode": {
     "languageId": "r"
    }
   },
   "outputs": [
    {
     "data": {
      "text/plain": [
       "  Tukey multiple comparisons of means\n",
       "    95% family-wise confidence level\n",
       "\n",
       "Fit: aov(formula = model)\n",
       "\n",
       "$`data$Treatment`\n",
       "     diff        lwr       upr     p adj\n",
       "B-A -3.50  -8.877933  1.877933 0.2660010\n",
       "C-A -7.75 -13.127933 -2.372067 0.0051083\n",
       "D-A -4.00  -9.377933  1.377933 0.1761475\n",
       "C-B -4.25  -9.627933  1.127933 0.1417242\n",
       "D-B -0.50  -5.877933  4.877933 0.9922648\n",
       "D-C  3.75  -1.627933  9.127933 0.2173699\n"
      ]
     },
     "metadata": {},
     "output_type": "display_data"
    }
   ],
   "source": [
    "TukeyHSD(AOV)"
   ]
  }
 ],
 "metadata": {
  "kernelspec": {
   "display_name": "R",
   "language": "R",
   "name": "ir"
  },
  "language_info": {
   "codemirror_mode": "r",
   "file_extension": ".r",
   "mimetype": "text/x-r-source",
   "name": "R",
   "pygments_lexer": "r",
   "version": "4.2.0"
  },
  "orig_nbformat": 4
 },
 "nbformat": 4,
 "nbformat_minor": 2
}
