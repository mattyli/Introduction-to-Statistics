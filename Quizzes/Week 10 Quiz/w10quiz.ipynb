{
 "cells": [
  {
   "cell_type": "markdown",
   "metadata": {},
   "source": [
    "# Week 10 Quiz\n",
    "\n",
    "## Question 1"
   ]
  },
  {
   "cell_type": "code",
   "execution_count": 2,
   "metadata": {
    "vscode": {
     "languageId": "r"
    }
   },
   "outputs": [
    {
     "data": {
      "image/png": "[encoded data removed]",
      "text/plain": [
       "plot without title"
      ]
     },
     "metadata": {
      "image/png": {
       "height": 420,
       "width": 420
      }
     },
     "output_type": "display_data"
    }
   ],
   "source": [
    "ds1 = read.csv(\"USArrestRates.csv\", colClasses=c('factor', 'numeric', 'numeric', 'numeric', 'numeric'))\n",
    "uPop = ds1$UrbanPop\n",
    "ass = ds1$Assault\n",
    "plot(uPop, ass)"
   ]
  },
  {
   "cell_type": "markdown",
   "metadata": {},
   "source": [
    "H0 : Regression slope is not significantly different from 0\n",
    "\n",
    "HA : Regression slope is significantly different from 0\n",
    "\n",
    "WE are INTERESTED IN THE SLOPE, only examine numbers pertaining to the slope"
   ]
  },
  {
   "cell_type": "code",
   "execution_count": 4,
   "metadata": {
    "vscode": {
     "languageId": "r"
    }
   },
   "outputs": [
    {
     "data": {
      "text/plain": [
       "\n",
       "Call:\n",
       "lm(formula = ass ~ uPop)\n",
       "\n",
       "Coefficients:\n",
       "(Intercept)         uPop  \n",
       "      73.08         1.49  \n"
      ]
     },
     "metadata": {},
     "output_type": "display_data"
    }
   ],
   "source": [
    "t1 = lm(ass~uPop) #Y~X\n",
    "t1"
   ]
  },
  {
   "cell_type": "code",
   "execution_count": 5,
   "metadata": {
    "vscode": {
     "languageId": "r"
    }
   },
   "outputs": [
    {
     "data": {
      "text/plain": [
       "\n",
       "Call:\n",
       "lm(formula = ass ~ uPop)\n",
       "\n",
       "Residuals:\n",
       "    Min      1Q  Median      3Q     Max \n",
       "-150.78  -61.85  -18.68   58.05  196.85 \n",
       "\n",
       "Coefficients:\n",
       "            Estimate Std. Error t value Pr(>|t|)  \n",
       "(Intercept)  73.0766    53.8508   1.357   0.1811  \n",
       "uPop          1.4904     0.8027   1.857   0.0695 .\n",
       "---\n",
       "Signif. codes:  0 '***' 0.001 '**' 0.01 '*' 0.05 '.' 0.1 ' ' 1\n",
       "\n",
       "Residual standard error: 81.33 on 48 degrees of freedom\n",
       "Multiple R-squared:  0.06701,\tAdjusted R-squared:  0.04758 \n",
       "F-statistic: 3.448 on 1 and 48 DF,  p-value: 0.06948\n"
      ]
     },
     "metadata": {},
     "output_type": "display_data"
    }
   ],
   "source": [
    "summary(t1)"
   ]
  },
  {
   "cell_type": "code",
   "execution_count": 6,
   "metadata": {
    "vscode": {
     "languageId": "r"
    }
   },
   "outputs": [
    {
     "data": {
      "text/html": [
       "2.01063475762423"
      ],
      "text/latex": [
       "2.01063475762423"
      ],
      "text/markdown": [
       "2.01063475762423"
      ],
      "text/plain": [
       "[1] 2.010635"
      ]
     },
     "metadata": {},
     "output_type": "display_data"
    }
   ],
   "source": [
    "qt(0.975, 48)   # finding the critical t-stat"
   ]
  },
  {
   "cell_type": "markdown",
   "metadata": {},
   "source": [
    "## Question 2"
   ]
  },
  {
   "cell_type": "code",
   "execution_count": 8,
   "metadata": {
    "vscode": {
     "languageId": "r"
    }
   },
   "outputs": [
    {
     "data": {
      "image/png": "[encoded data removed]",
      "text/plain": [
       "plot without title"
      ]
     },
     "metadata": {
      "image/png": {
       "height": 420,
       "width": 420
      }
     },
     "output_type": "display_data"
    }
   ],
   "source": [
    "ds2 = read.csv(\"DepartmentAttitudeSurvey.csv\", colClasses=c('numeric', 'numeric', 'numeric', 'numeric', 'numeric'))\n",
    "raises=ds2$Raises\n",
    "ovr=ds2$OverallRating\n",
    "plot(raises,ovr,xlab=\"raises\", ylab=\"Rating (Overall)\")\n"
   ]
  },
  {
   "cell_type": "markdown",
   "metadata": {},
   "source": [
    "We want to investigate the relationship between raises and rating:\n",
    "- H0 : there is no relationship\n",
    "- HA : there is a relationship"
   ]
  },
  {
   "cell_type": "code",
   "execution_count": 9,
   "metadata": {
    "vscode": {
     "languageId": "r"
    }
   },
   "outputs": [
    {
     "data": {
      "text/plain": [
       "\n",
       "\tPearson's product-moment correlation\n",
       "\n",
       "data:  raises and ovr\n",
       "t = 3.8681, df = 28, p-value = 0.0005978\n",
       "alternative hypothesis: true correlation is not equal to 0\n",
       "95 percent confidence interval:\n",
       " 0.2919385 0.7837714\n",
       "sample estimates:\n",
       "     cor \n",
       "0.590139 \n"
      ]
     },
     "metadata": {},
     "output_type": "display_data"
    }
   ],
   "source": [
    "model = cor.test(raises, ovr)\n",
    "model"
   ]
  },
  {
   "cell_type": "code",
   "execution_count": 11,
   "metadata": {
    "vscode": {
     "languageId": "r"
    }
   },
   "outputs": [
    {
     "data": {
      "text/html": [
       "2.04840714179524"
      ],
      "text/latex": [
       "2.04840714179524"
      ],
      "text/markdown": [
       "2.04840714179524"
      ],
      "text/plain": [
       "[1] 2.048407"
      ]
     },
     "metadata": {},
     "output_type": "display_data"
    }
   ],
   "source": [
    "qt(0.975, 28) # t-crit for df=28, a = 0.05, two-tailed"
   ]
  }
 ],
 "metadata": {
  "kernelspec": {
   "display_name": "R",
   "language": "R",
   "name": "ir"
  },
  "language_info": {
   "codemirror_mode": "r",
   "file_extension": ".r",
   "mimetype": "text/x-r-source",
   "name": "R",
   "pygments_lexer": "r",
   "version": "4.2.0"
  },
  "orig_nbformat": 4
 },
 "nbformat": 4,
 "nbformat_minor": 2
}
